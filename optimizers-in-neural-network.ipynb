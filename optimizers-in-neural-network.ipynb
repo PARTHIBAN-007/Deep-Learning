{
 "cells": [
  {
   "cell_type": "markdown",
   "id": "138e46f1",
   "metadata": {
    "papermill": {
     "duration": 0.005355,
     "end_time": "2024-09-27T14:10:34.060442",
     "exception": false,
     "start_time": "2024-09-27T14:10:34.055087",
     "status": "completed"
    },
    "tags": []
   },
   "source": [
    "<div style=\"background-color: black\n",
    " ; color: white; text-align: center; padding: 20px; font-family: Arial, sans-serif; font-size: 24px;\">\n",
    "Optimization Algorithms </div>"
   ]
  },
  {
   "cell_type": "markdown",
   "id": "944aee68",
   "metadata": {
    "papermill": {
     "duration": 0.004445,
     "end_time": "2024-09-27T14:10:34.069987",
     "exception": false,
     "start_time": "2024-09-27T14:10:34.065542",
     "status": "completed"
    },
    "tags": []
   },
   "source": [
    "<div style=\"background-color: black\n",
    " ; color: white; text-align: center; padding: 20px; font-family: Arial, sans-serif; font-size: 24px;\">\n",
    "Gradient Descent  </div>"
   ]
  },
  {
   "cell_type": "code",
   "execution_count": 1,
   "id": "c7e97886",
   "metadata": {
    "execution": {
     "iopub.execute_input": "2024-09-27T14:10:34.080886Z",
     "iopub.status.busy": "2024-09-27T14:10:34.080434Z",
     "iopub.status.idle": "2024-09-27T14:10:34.092963Z",
     "shell.execute_reply": "2024-09-27T14:10:34.091983Z"
    },
    "papermill": {
     "duration": 0.020821,
     "end_time": "2024-09-27T14:10:34.095303",
     "exception": false,
     "start_time": "2024-09-27T14:10:34.074482",
     "status": "completed"
    },
    "tags": []
   },
   "outputs": [],
   "source": [
    "class GradientDescent:\n",
    "    def __init__(self,learning_rate = 0.001):\n",
    "        self.learning_rate = learning_rate \n",
    "        \n",
    "    def update(self,weights,gradients):\n",
    "        weights = weights - self.learning_rate * gradients\n",
    "        return weights\n"
   ]
  },
  {
   "cell_type": "markdown",
   "id": "0850fd6d",
   "metadata": {
    "papermill": {
     "duration": 0.00437,
     "end_time": "2024-09-27T14:10:34.104267",
     "exception": false,
     "start_time": "2024-09-27T14:10:34.099897",
     "status": "completed"
    },
    "tags": []
   },
   "source": [
    "<div style=\"background-color: black\n",
    " ; color: white; text-align: center; padding: 20px; font-family: Arial, sans-serif; font-size: 24px;\">\n",
    "Stochastic Gradient Descent </div>"
   ]
  },
  {
   "cell_type": "code",
   "execution_count": 2,
   "id": "9075602c",
   "metadata": {
    "execution": {
     "iopub.execute_input": "2024-09-27T14:10:34.118188Z",
     "iopub.status.busy": "2024-09-27T14:10:34.117177Z",
     "iopub.status.idle": "2024-09-27T14:10:34.123702Z",
     "shell.execute_reply": "2024-09-27T14:10:34.122606Z"
    },
    "papermill": {
     "duration": 0.01552,
     "end_time": "2024-09-27T14:10:34.126413",
     "exception": false,
     "start_time": "2024-09-27T14:10:34.110893",
     "status": "completed"
    },
    "tags": []
   },
   "outputs": [],
   "source": [
    "class SGD:\n",
    "    def __init__(self,learning_rate = 0.001):\n",
    "        self.learning_rate = learning_rate\n",
    "        \n",
    "    def update(self,weights,gradients):\n",
    "        weights = weights - self.learning_rate * gradients\n",
    "        return weights"
   ]
  },
  {
   "cell_type": "markdown",
   "id": "c98bc8b5",
   "metadata": {
    "papermill": {
     "duration": 0.00458,
     "end_time": "2024-09-27T14:10:34.135665",
     "exception": false,
     "start_time": "2024-09-27T14:10:34.131085",
     "status": "completed"
    },
    "tags": []
   },
   "source": [
    "<div style=\"background-color: black\n",
    " ; color: white; text-align: center; padding: 20px; font-family: Arial, sans-serif; font-size: 24px;\">\n",
    "Momentum </div>"
   ]
  },
  {
   "cell_type": "code",
   "execution_count": 3,
   "id": "82a7aa30",
   "metadata": {
    "execution": {
     "iopub.execute_input": "2024-09-27T14:10:34.146393Z",
     "iopub.status.busy": "2024-09-27T14:10:34.145969Z",
     "iopub.status.idle": "2024-09-27T14:10:34.152666Z",
     "shell.execute_reply": "2024-09-27T14:10:34.151568Z"
    },
    "papermill": {
     "duration": 0.014923,
     "end_time": "2024-09-27T14:10:34.155067",
     "exception": false,
     "start_time": "2024-09-27T14:10:34.140144",
     "status": "completed"
    },
    "tags": []
   },
   "outputs": [],
   "source": [
    "class Momentum:\n",
    "    def __init__(self,learning_rate=0.001,momentum= 0.9):\n",
    "        self.learning_rate = learning_rate \n",
    "        self.momentum = momentum\n",
    "        self.velocity = 0\n",
    "        \n",
    "    def update(self,weights,gradients):\n",
    "        self.velocity = self.momentum * self.velocity - self.learning_rate *self.gradient\n",
    "        weights = weigths+self.velocity\n",
    "        return weights"
   ]
  },
  {
   "cell_type": "markdown",
   "id": "7416ce72",
   "metadata": {
    "papermill": {
     "duration": 0.004119,
     "end_time": "2024-09-27T14:10:34.163850",
     "exception": false,
     "start_time": "2024-09-27T14:10:34.159731",
     "status": "completed"
    },
    "tags": []
   },
   "source": [
    "<div style=\"background-color: black\n",
    " ; color: white; text-align: center; padding: 20px; font-family: Arial, sans-serif; font-size: 24px;\">\n",
    "Adagrad</div>"
   ]
  },
  {
   "cell_type": "code",
   "execution_count": 4,
   "id": "bf4d7791",
   "metadata": {
    "execution": {
     "iopub.execute_input": "2024-09-27T14:10:34.175005Z",
     "iopub.status.busy": "2024-09-27T14:10:34.174099Z",
     "iopub.status.idle": "2024-09-27T14:10:34.181225Z",
     "shell.execute_reply": "2024-09-27T14:10:34.180174Z"
    },
    "papermill": {
     "duration": 0.015206,
     "end_time": "2024-09-27T14:10:34.183511",
     "exception": false,
     "start_time": "2024-09-27T14:10:34.168305",
     "status": "completed"
    },
    "tags": []
   },
   "outputs": [],
   "source": [
    "import numpy as np\n",
    "class Adagrad:\n",
    "    def __init__(self,learning_rate = 0.001,epsilon = 1e-18):\n",
    "        self.learning_rate = learning_rate\n",
    "        self.epsilon = epsilon\n",
    "        self.cache = 0\n",
    "        \n",
    "    def update (self,weights,gradients):\n",
    "        self.cache += gradients**2\n",
    "        weight_update = (self.learning_rate/ (np.sqrt(self.cache)+self.epsilon)) * gradients\n",
    "        weights -= weight_update\n",
    "        return weights\n",
    "        "
   ]
  },
  {
   "cell_type": "markdown",
   "id": "967a6453",
   "metadata": {
    "papermill": {
     "duration": 0.004112,
     "end_time": "2024-09-27T14:10:34.192049",
     "exception": false,
     "start_time": "2024-09-27T14:10:34.187937",
     "status": "completed"
    },
    "tags": []
   },
   "source": [
    "<div style=\"background-color: black\n",
    " ; color: white; text-align: center; padding: 20px; font-family: Arial, sans-serif; font-size: 24px;\">\n",
    "RMS Prop </div>"
   ]
  },
  {
   "cell_type": "code",
   "execution_count": 5,
   "id": "0caca186",
   "metadata": {
    "execution": {
     "iopub.execute_input": "2024-09-27T14:10:34.202819Z",
     "iopub.status.busy": "2024-09-27T14:10:34.202388Z",
     "iopub.status.idle": "2024-09-27T14:10:34.211202Z",
     "shell.execute_reply": "2024-09-27T14:10:34.209911Z"
    },
    "papermill": {
     "duration": 0.016929,
     "end_time": "2024-09-27T14:10:34.213603",
     "exception": false,
     "start_time": "2024-09-27T14:10:34.196674",
     "status": "completed"
    },
    "tags": []
   },
   "outputs": [],
   "source": [
    "class RMSprop:\n",
    "    def __init__(self,learning_rate = 0.0001,beta = 0.9,epsilon =1e-8):\n",
    "        self.learning_rate =learning_rate\n",
    "        self.beta = beta\n",
    "        self.epsion = epsilon\n",
    "        self.cache = cache\n",
    "        \n",
    "    def update(self,weights,gradients):\n",
    "        self.cache = self.beta * self.cache + (1-self.beta )* gradients ** 2\n",
    "        weight_update = (self.learning_rate*gradients) /(np.sqrt(self.cache)+self.epsilon)\n",
    "        weight -= weight_update\n",
    "        return weight\n",
    "    \n",
    "        \n",
    "        "
   ]
  },
  {
   "cell_type": "markdown",
   "id": "56f7b56e",
   "metadata": {
    "papermill": {
     "duration": 0.004106,
     "end_time": "2024-09-27T14:10:34.222266",
     "exception": false,
     "start_time": "2024-09-27T14:10:34.218160",
     "status": "completed"
    },
    "tags": []
   },
   "source": [
    "<div style=\"background-color: black\n",
    " ; color: white; text-align: center; padding: 20px; font-family: Arial, sans-serif; font-size: 24px;\">\n",
    "Adam </div>"
   ]
  },
  {
   "cell_type": "code",
   "execution_count": 6,
   "id": "229824e7",
   "metadata": {
    "execution": {
     "iopub.execute_input": "2024-09-27T14:10:34.233196Z",
     "iopub.status.busy": "2024-09-27T14:10:34.232269Z",
     "iopub.status.idle": "2024-09-27T14:10:34.241609Z",
     "shell.execute_reply": "2024-09-27T14:10:34.240499Z"
    },
    "papermill": {
     "duration": 0.017344,
     "end_time": "2024-09-27T14:10:34.243961",
     "exception": false,
     "start_time": "2024-09-27T14:10:34.226617",
     "status": "completed"
    },
    "tags": []
   },
   "outputs": [],
   "source": [
    "class Adam:\n",
    "    def __init__(self,learning_rate = 0.0001,beta1 = 0.9 , beta = 0.999,epsion = 1e-8):\n",
    "        self.learning_rate = learning_rate\n",
    "        self.beta1 = beta1\n",
    "        self.beta2 = beta2\n",
    "        self.m = 0\n",
    "        self.v = 0\n",
    "        self.t = 0\n",
    "        \n",
    "    def update(sself,weights,gradients):\n",
    "        self.t += 1\n",
    "        self.m = self.beta1 * self.m + (1-self.beta1)*gradients\n",
    "        self.v = self.beta2 * self.v + (1-self.beta2) * gradients\n",
    "        m_hat =self.m / (1-self.beta1 **self.t)\n",
    "        v_hat = self.v / ( 1- self.beta2 **self.t)\n",
    "        \n",
    "        weight_update = self.learning_rate * m_hat /(np.sqrt(v_hat) + self.epsilon)\n",
    "        weights = weighs - weight_update\n",
    "        return weights"
   ]
  }
 ],
 "metadata": {
  "kaggle": {
   "accelerator": "none",
   "dataSources": [],
   "dockerImageVersionId": 30775,
   "isGpuEnabled": false,
   "isInternetEnabled": true,
   "language": "python",
   "sourceType": "notebook"
  },
  "kernelspec": {
   "display_name": "Python 3",
   "language": "python",
   "name": "python3"
  },
  "language_info": {
   "codemirror_mode": {
    "name": "ipython",
    "version": 3
   },
   "file_extension": ".py",
   "mimetype": "text/x-python",
   "name": "python",
   "nbconvert_exporter": "python",
   "pygments_lexer": "ipython3",
   "version": "3.10.14"
  },
  "papermill": {
   "default_parameters": {},
   "duration": 3.359496,
   "end_time": "2024-09-27T14:10:34.568403",
   "environment_variables": {},
   "exception": null,
   "input_path": "__notebook__.ipynb",
   "output_path": "__notebook__.ipynb",
   "parameters": {},
   "start_time": "2024-09-27T14:10:31.208907",
   "version": "2.6.0"
  }
 },
 "nbformat": 4,
 "nbformat_minor": 5
}
