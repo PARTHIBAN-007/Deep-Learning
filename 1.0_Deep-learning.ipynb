{
 "cells": [
  {
   "cell_type": "markdown",
   "metadata": {},
   "source": [
    "## <div style =\"font-size:25px; border-radius:25px; border:3666; padding:10px;  background-color:#fffafa; text-align:center; color:#000000;\"> DEEP LEARNING</div>\n"
   ]
  },
  {
   "cell_type": "markdown",
   "metadata": {},
   "source": [
    "<div style =\"font-size:20px;  border:#fffadcc; padding:25px; background-color:#fffafa; color:#000000;\"><p> Deep Learning is a subfield of Machine learning that involves the use of neural networks with many layers to learn complex and hidden patterns in the data.Neural Networks are inspired by the biological structure and function of the human brain.It is an effective way to process large amount of data and make predictions.Deep learning is computationally effective as it requires large amount of data and the performance of a deep learning model is directly proportional to the amount of data</p> </div>\n"
   ]
  },
  {
   "cell_type": "markdown",
   "metadata": {},
   "source": [
    "<img src=\"https://lh7-us.googleusercontent.com/lD2mGUzyMe9YtPkipb_sVFSy3H0tYtdCf1dEipeXAf3o60rHrpxj3OJblK5hH1tSNmkxDd9fd-z3RvkbX021SPxEVC67NT4AVbIkOM76G6aVv_2b7StWIbikPWy8qJmYjlThxWKODvp4afmpH2A3p4w\">"
   ]
  },
  {
   "cell_type": "markdown",
   "metadata": {},
   "source": [
    "<div style=\"font-size:25px; color:#000000; background-color:#ffffff; padding:25px; \">\n",
    "<p><b>Machine Learning:</b> Machine Learnig is preferrable when the data is low and interpretability is key.it requires manual feature extraction</h1>\n",
    "<p><b>Deep learning :</b>Deep learning shines with large-scale data and complex tasks like image recognition , voice recognition though it often requires computational power and data.</p>\n",
    "</div>\n",
    "\n"
   ]
  },
  {
   "cell_type": "markdown",
   "metadata": {},
   "source": [
    "<img src=\"https://www.softwaretestinghelp.com/wp-content/qa/uploads/2019/04/DeepLearning.png\" style=\"align-items:center\">"
   ]
  },
  {
   "cell_type": "markdown",
   "metadata": {},
   "source": [
    "## <div style =\"font-size:25px; border-radius:25px; border:3666; padding:10px;  background-color:#fffafa; text-align:center; color:#000000;\"> Neural Network Architecture</div>\n"
   ]
  },
  {
   "cell_type": "markdown",
   "metadata": {},
   "source": [
    "<div style=\"font-size:25px; color:#000000; background-color:#ffffff; padding:25px; \">Main Components of Neural Network\n",
    "<li>Input Layer</li>\n",
    "<li>Hidden Layer</li>\n",
    "<li>Output Layer</li>\n",
    "<li>Neurons</li>\n",
    "<li>Weights and Biases</li>\n",
    "<li>Activation functions</li>\n",
    "<li>Loss Functions</li>\n",
    "<li>Optimizers</li>\n",
    "\n",
    "\n",
    "\n",
    "\n",
    "\n",
    "<p><b>Input Layer: </b>Receives the raw input data(features) with each node represents a feature</p>\n",
    "<p><b>Hidden Layer: </b>Intermediate Layers between input layer and output layer.Hidden Layer is a layer of neurons that transforms the data into higher level representation ,allowing the neural network to learn complex patterns in the data </p>\n",
    "<p><b>output Layer: </b>Produces the final prediction or classification ,with the number of neuron representing the output class</p>\n",
    "<p><b>Neurons: </b>Neurons in neural networks are computational units that receive input ,apply a weighted sum and an activation function and produce an output</p>\n",
    "<p><b>Weigths and Biases: </b>Parameters that adjust during training to minimize the error between actual values and predicted values</p>\n",
    "<p><b>Activation Functions: </b>Non-Linear functions applied to the output of each neuron to enable the network to capture complex patterns</p>\n",
    "<p><b>Loss Functions: </b>Measures the error in predictions</p>\n",
    "<p><b>Optimizers: </b>Algorithms that updates the parameters(weigths and biases) to minimize the loss function</p>\n",
    "\n",
    "\n",
    "</div>\n",
    "\n",
    "\n"
   ]
  },
  {
   "cell_type": "markdown",
   "metadata": {},
   "source": [
    "<div style=\"display:grid; grid-template-columns:repeat(2,1fr); gap:10px;\">\n",
    "    <img src=\"https://som.edu.vn/wp-content/uploads/2023/12/deep-neural-networks-la-gi.png\" >\n",
    "    <img src=\"https://miro.medium.com/v2/resize:fit:1200/1*qQPpdtR0r1APiEfTqN74aA.png\">\n",
    "</div>"
   ]
  },
  {
   "cell_type": "markdown",
   "metadata": {},
   "source": [
    "## <div style =\"font-size:25px; border-radius:25px; border:3666; padding:10px;  background-color:#fffafa; text-align:center; color:#000000;\">Deep Learning Architectures</div>\n"
   ]
  },
  {
   "cell_type": "markdown",
   "metadata": {},
   "source": [
    "<div style=\"font-size:20px; color:#000000; background-color:#ffffff; padding:25px; \">\n",
    "<li> <b>Artificial Neural Network :</b>ANN (Artificial Neural Network) is the foundational deep learning model consisting of layers of interconnected neurons. It is primarily used for tasks like classification and regression, where each neuron learns patterns from data through weighted connections and activation functions.\n",
    "</li>\n",
    "\n",
    "<li><b>Convolutional Neural Network :</b> CNN (Convolutional Neural Network) is primarily used for image and spatial data processing, utilizing convolutional layers to automatically capture features like edges and textures.\n",
    "</li>\n",
    "\n",
    "<li><b>Recurrent Neural Network :</b> RNN (Recurrent Neural Network) is designed for sequential data, such as time series or text, and uses recurrent connections to maintain information across time steps.\n",
    "<li><b>Long Short-Term Memory :</b> LSTM (Long Short-Term Memory) is a type of RNN that uses memory cells and gating mechanisms (input, output, and forget gates) to capture long-term dependencies and prevent issues like vanishing gradients</li>\n",
    "<li><b>Gated Recurrent Unit :</b> GRU (Gated Recurrent Unit) is a simplified variant of LSTM with fewer gates, making it computationally more efficient while still handling long-range dependencies effectively.</li>\n",
    "</li>\n",
    "\n",
    "</div>\n",
    "\n",
    "\n"
   ]
  },
  {
   "cell_type": "markdown",
   "metadata": {},
   "source": [
    "## <div style =\"font-size:25px; border-radius:25px; border:3666; padding:10px;  background-color:#fffafa; text-align:center; color:#000000;\">Applications of Deep Learning</div>\n"
   ]
  },
  {
   "cell_type": "markdown",
   "metadata": {},
   "source": [
    "<div style=\"font-size:20px; color:#000000; background-color:#ffffff; padding:25px; \">\n",
    "<li> Image Recognition: Used in facial recognition, object detection, and medical imaging (e.g., tumor detection in MRIs).\n",
    "</li>\n",
    "<li>Natural Language Processing (NLP): Powering applications like language translation, sentiment analysis, chatbots, and text generation (e.g., BERT, GPT models).\n",
    "\n",
    "\n",
    "</li>\n",
    "<li>Speech Recognition: Enabling voice assistants (e.g., Siri, Alexa) to convert spoken language into text and respond accordingly.\n",
    "</li>\n",
    "<li> Autonomous Vehicles: Used in perception systems for detecting objects, understanding the environment, and making driving decisions.\n",
    "</li>\n",
    "<li>Recommender Systems: Neural networks help suggest products, movies, or music to users based on their preferences (e.g., Netflix, Amazon).\n",
    "</li>\n",
    "<li>Financial Forecasting: Predicting stock prices, credit scoring, fraud detection, and risk assessment.\n",
    "</li>\n",
    "<li>Healthcare: Applications in disease diagnosis, drug discovery, personalized treatment recommendations, and medical data analysis.\n",
    "\n",
    "</li>\n",
    "<li>Gaming: Neural networks enhance game AI by learning to make strategic decisions and responses dynamically.\n",
    "\n",
    "\n",
    "</li>\n",
    "\n",
    "</div>\n",
    "\n",
    "\n"
   ]
  }
 ],
 "metadata": {
  "language_info": {
   "name": "python"
  }
 },
 "nbformat": 4,
 "nbformat_minor": 2
}
