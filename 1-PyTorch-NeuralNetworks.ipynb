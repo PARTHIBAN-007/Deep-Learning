{
 "cells": [
  {
   "cell_type": "markdown",
   "id": "af27223a",
   "metadata": {
    "papermill": {
     "duration": 0.00488,
     "end_time": "2025-02-08T13:43:51.984576",
     "exception": false,
     "start_time": "2025-02-08T13:43:51.979696",
     "status": "completed"
    },
    "tags": []
   },
   "source": [
    "<div style=\"background-color:#8e312b; color:#202125; font-size:25px; padding:10px; text-align:center; border-radius:25px;\" >Pytorch -  Neural Networks</div>"
   ]
  },
  {
   "cell_type": "code",
   "execution_count": 1,
   "id": "8cb2a3ee",
   "metadata": {
    "execution": {
     "iopub.execute_input": "2025-02-08T13:43:51.993880Z",
     "iopub.status.busy": "2025-02-08T13:43:51.993569Z",
     "iopub.status.idle": "2025-02-08T13:43:58.535493Z",
     "shell.execute_reply": "2025-02-08T13:43:58.534554Z"
    },
    "papermill": {
     "duration": 6.548351,
     "end_time": "2025-02-08T13:43:58.537144",
     "exception": false,
     "start_time": "2025-02-08T13:43:51.988793",
     "status": "completed"
    },
    "tags": []
   },
   "outputs": [
    {
     "data": {
      "text/html": [
       "<div>\n",
       "<style scoped>\n",
       "    .dataframe tbody tr th:only-of-type {\n",
       "        vertical-align: middle;\n",
       "    }\n",
       "\n",
       "    .dataframe tbody tr th {\n",
       "        vertical-align: top;\n",
       "    }\n",
       "\n",
       "    .dataframe thead th {\n",
       "        text-align: right;\n",
       "    }\n",
       "</style>\n",
       "<table border=\"1\" class=\"dataframe\">\n",
       "  <thead>\n",
       "    <tr style=\"text-align: right;\">\n",
       "      <th></th>\n",
       "      <th>id</th>\n",
       "      <th>date</th>\n",
       "      <th>price</th>\n",
       "      <th>bedrooms</th>\n",
       "      <th>bathrooms</th>\n",
       "      <th>sqft_living</th>\n",
       "      <th>sqft_lot</th>\n",
       "      <th>floors</th>\n",
       "      <th>waterfront</th>\n",
       "      <th>view</th>\n",
       "      <th>...</th>\n",
       "      <th>grade</th>\n",
       "      <th>sqft_above</th>\n",
       "      <th>sqft_basement</th>\n",
       "      <th>yr_built</th>\n",
       "      <th>yr_renovated</th>\n",
       "      <th>zipcode</th>\n",
       "      <th>lat</th>\n",
       "      <th>long</th>\n",
       "      <th>sqft_living15</th>\n",
       "      <th>sqft_lot15</th>\n",
       "    </tr>\n",
       "  </thead>\n",
       "  <tbody>\n",
       "    <tr>\n",
       "      <th>0</th>\n",
       "      <td>7129300520</td>\n",
       "      <td>20141013T000000</td>\n",
       "      <td>221900.0</td>\n",
       "      <td>3</td>\n",
       "      <td>1.00</td>\n",
       "      <td>1180</td>\n",
       "      <td>5650</td>\n",
       "      <td>1.0</td>\n",
       "      <td>0</td>\n",
       "      <td>0</td>\n",
       "      <td>...</td>\n",
       "      <td>7</td>\n",
       "      <td>1180</td>\n",
       "      <td>0</td>\n",
       "      <td>1955</td>\n",
       "      <td>0</td>\n",
       "      <td>98178</td>\n",
       "      <td>47.5112</td>\n",
       "      <td>-122.257</td>\n",
       "      <td>1340</td>\n",
       "      <td>5650</td>\n",
       "    </tr>\n",
       "    <tr>\n",
       "      <th>1</th>\n",
       "      <td>6414100192</td>\n",
       "      <td>20141209T000000</td>\n",
       "      <td>538000.0</td>\n",
       "      <td>3</td>\n",
       "      <td>2.25</td>\n",
       "      <td>2570</td>\n",
       "      <td>7242</td>\n",
       "      <td>2.0</td>\n",
       "      <td>0</td>\n",
       "      <td>0</td>\n",
       "      <td>...</td>\n",
       "      <td>7</td>\n",
       "      <td>2170</td>\n",
       "      <td>400</td>\n",
       "      <td>1951</td>\n",
       "      <td>1991</td>\n",
       "      <td>98125</td>\n",
       "      <td>47.7210</td>\n",
       "      <td>-122.319</td>\n",
       "      <td>1690</td>\n",
       "      <td>7639</td>\n",
       "    </tr>\n",
       "    <tr>\n",
       "      <th>2</th>\n",
       "      <td>5631500400</td>\n",
       "      <td>20150225T000000</td>\n",
       "      <td>180000.0</td>\n",
       "      <td>2</td>\n",
       "      <td>1.00</td>\n",
       "      <td>770</td>\n",
       "      <td>10000</td>\n",
       "      <td>1.0</td>\n",
       "      <td>0</td>\n",
       "      <td>0</td>\n",
       "      <td>...</td>\n",
       "      <td>6</td>\n",
       "      <td>770</td>\n",
       "      <td>0</td>\n",
       "      <td>1933</td>\n",
       "      <td>0</td>\n",
       "      <td>98028</td>\n",
       "      <td>47.7379</td>\n",
       "      <td>-122.233</td>\n",
       "      <td>2720</td>\n",
       "      <td>8062</td>\n",
       "    </tr>\n",
       "    <tr>\n",
       "      <th>3</th>\n",
       "      <td>2487200875</td>\n",
       "      <td>20141209T000000</td>\n",
       "      <td>604000.0</td>\n",
       "      <td>4</td>\n",
       "      <td>3.00</td>\n",
       "      <td>1960</td>\n",
       "      <td>5000</td>\n",
       "      <td>1.0</td>\n",
       "      <td>0</td>\n",
       "      <td>0</td>\n",
       "      <td>...</td>\n",
       "      <td>7</td>\n",
       "      <td>1050</td>\n",
       "      <td>910</td>\n",
       "      <td>1965</td>\n",
       "      <td>0</td>\n",
       "      <td>98136</td>\n",
       "      <td>47.5208</td>\n",
       "      <td>-122.393</td>\n",
       "      <td>1360</td>\n",
       "      <td>5000</td>\n",
       "    </tr>\n",
       "    <tr>\n",
       "      <th>4</th>\n",
       "      <td>1954400510</td>\n",
       "      <td>20150218T000000</td>\n",
       "      <td>510000.0</td>\n",
       "      <td>3</td>\n",
       "      <td>2.00</td>\n",
       "      <td>1680</td>\n",
       "      <td>8080</td>\n",
       "      <td>1.0</td>\n",
       "      <td>0</td>\n",
       "      <td>0</td>\n",
       "      <td>...</td>\n",
       "      <td>8</td>\n",
       "      <td>1680</td>\n",
       "      <td>0</td>\n",
       "      <td>1987</td>\n",
       "      <td>0</td>\n",
       "      <td>98074</td>\n",
       "      <td>47.6168</td>\n",
       "      <td>-122.045</td>\n",
       "      <td>1800</td>\n",
       "      <td>7503</td>\n",
       "    </tr>\n",
       "  </tbody>\n",
       "</table>\n",
       "<p>5 rows × 21 columns</p>\n",
       "</div>"
      ],
      "text/plain": [
       "           id             date     price  bedrooms  bathrooms  sqft_living  \\\n",
       "0  7129300520  20141013T000000  221900.0         3       1.00         1180   \n",
       "1  6414100192  20141209T000000  538000.0         3       2.25         2570   \n",
       "2  5631500400  20150225T000000  180000.0         2       1.00          770   \n",
       "3  2487200875  20141209T000000  604000.0         4       3.00         1960   \n",
       "4  1954400510  20150218T000000  510000.0         3       2.00         1680   \n",
       "\n",
       "   sqft_lot  floors  waterfront  view  ...  grade  sqft_above  sqft_basement  \\\n",
       "0      5650     1.0           0     0  ...      7        1180              0   \n",
       "1      7242     2.0           0     0  ...      7        2170            400   \n",
       "2     10000     1.0           0     0  ...      6         770              0   \n",
       "3      5000     1.0           0     0  ...      7        1050            910   \n",
       "4      8080     1.0           0     0  ...      8        1680              0   \n",
       "\n",
       "   yr_built  yr_renovated  zipcode      lat     long  sqft_living15  \\\n",
       "0      1955             0    98178  47.5112 -122.257           1340   \n",
       "1      1951          1991    98125  47.7210 -122.319           1690   \n",
       "2      1933             0    98028  47.7379 -122.233           2720   \n",
       "3      1965             0    98136  47.5208 -122.393           1360   \n",
       "4      1987             0    98074  47.6168 -122.045           1800   \n",
       "\n",
       "   sqft_lot15  \n",
       "0        5650  \n",
       "1        7639  \n",
       "2        8062  \n",
       "3        5000  \n",
       "4        7503  \n",
       "\n",
       "[5 rows x 21 columns]"
      ]
     },
     "execution_count": 1,
     "metadata": {},
     "output_type": "execute_result"
    }
   ],
   "source": [
    "import pandas as pd \n",
    "import matplotlib.pyplot as plt\n",
    "import seaborn as sns\n",
    "import torch\n",
    "import torch.nn as nn\n",
    "import torch.optim as optim\n",
    "\n",
    "\n",
    "df =pd.read_csv(\"/kaggle/input/housesalesprediction/kc_house_data.csv\")\n",
    "df.head()"
   ]
  },
  {
   "cell_type": "code",
   "execution_count": 2,
   "id": "8674adaf",
   "metadata": {
    "execution": {
     "iopub.execute_input": "2025-02-08T13:43:58.546930Z",
     "iopub.status.busy": "2025-02-08T13:43:58.546628Z",
     "iopub.status.idle": "2025-02-08T13:43:58.550506Z",
     "shell.execute_reply": "2025-02-08T13:43:58.549488Z"
    },
    "papermill": {
     "duration": 0.010254,
     "end_time": "2025-02-08T13:43:58.551932",
     "exception": false,
     "start_time": "2025-02-08T13:43:58.541678",
     "status": "completed"
    },
    "tags": []
   },
   "outputs": [],
   "source": [
    "pd.set_option(\"display.max_columns\",None)"
   ]
  },
  {
   "cell_type": "code",
   "execution_count": 3,
   "id": "1933438c",
   "metadata": {
    "execution": {
     "iopub.execute_input": "2025-02-08T13:43:58.561478Z",
     "iopub.status.busy": "2025-02-08T13:43:58.561142Z",
     "iopub.status.idle": "2025-02-08T13:43:58.566315Z",
     "shell.execute_reply": "2025-02-08T13:43:58.565426Z"
    },
    "papermill": {
     "duration": 0.011437,
     "end_time": "2025-02-08T13:43:58.567713",
     "exception": false,
     "start_time": "2025-02-08T13:43:58.556276",
     "status": "completed"
    },
    "tags": []
   },
   "outputs": [],
   "source": [
    "dff = df.drop(columns={'id','date'})\n"
   ]
  },
  {
   "cell_type": "code",
   "execution_count": 4,
   "id": "c3855dfd",
   "metadata": {
    "execution": {
     "iopub.execute_input": "2025-02-08T13:43:58.579802Z",
     "iopub.status.busy": "2025-02-08T13:43:58.579341Z",
     "iopub.status.idle": "2025-02-08T13:43:58.604515Z",
     "shell.execute_reply": "2025-02-08T13:43:58.602863Z"
    },
    "papermill": {
     "duration": 0.034534,
     "end_time": "2025-02-08T13:43:58.606736",
     "exception": false,
     "start_time": "2025-02-08T13:43:58.572202",
     "status": "completed"
    },
    "tags": []
   },
   "outputs": [
    {
     "name": "stdout",
     "output_type": "stream",
     "text": [
      "<class 'pandas.core.frame.DataFrame'>\n",
      "RangeIndex: 21613 entries, 0 to 21612\n",
      "Data columns (total 19 columns):\n",
      " #   Column         Non-Null Count  Dtype  \n",
      "---  ------         --------------  -----  \n",
      " 0   price          21613 non-null  float64\n",
      " 1   bedrooms       21613 non-null  int64  \n",
      " 2   bathrooms      21613 non-null  float64\n",
      " 3   sqft_living    21613 non-null  int64  \n",
      " 4   sqft_lot       21613 non-null  int64  \n",
      " 5   floors         21613 non-null  float64\n",
      " 6   waterfront     21613 non-null  int64  \n",
      " 7   view           21613 non-null  int64  \n",
      " 8   condition      21613 non-null  int64  \n",
      " 9   grade          21613 non-null  int64  \n",
      " 10  sqft_above     21613 non-null  int64  \n",
      " 11  sqft_basement  21613 non-null  int64  \n",
      " 12  yr_built       21613 non-null  int64  \n",
      " 13  yr_renovated   21613 non-null  int64  \n",
      " 14  zipcode        21613 non-null  int64  \n",
      " 15  lat            21613 non-null  float64\n",
      " 16  long           21613 non-null  float64\n",
      " 17  sqft_living15  21613 non-null  int64  \n",
      " 18  sqft_lot15     21613 non-null  int64  \n",
      "dtypes: float64(5), int64(14)\n",
      "memory usage: 3.1 MB\n"
     ]
    }
   ],
   "source": [
    "dff.info()"
   ]
  },
  {
   "cell_type": "code",
   "execution_count": 5,
   "id": "c7d49be6",
   "metadata": {
    "execution": {
     "iopub.execute_input": "2025-02-08T13:43:58.618478Z",
     "iopub.status.busy": "2025-02-08T13:43:58.618124Z",
     "iopub.status.idle": "2025-02-08T13:43:58.623363Z",
     "shell.execute_reply": "2025-02-08T13:43:58.622154Z"
    },
    "papermill": {
     "duration": 0.01221,
     "end_time": "2025-02-08T13:43:58.625050",
     "exception": false,
     "start_time": "2025-02-08T13:43:58.612840",
     "status": "completed"
    },
    "tags": []
   },
   "outputs": [
    {
     "name": "stdout",
     "output_type": "stream",
     "text": [
      "Shape of the Data :  (21613, 19)\n"
     ]
    }
   ],
   "source": [
    "print(\"Shape of the Data : \",dff.shape)"
   ]
  },
  {
   "cell_type": "code",
   "execution_count": 6,
   "id": "d387d848",
   "metadata": {
    "execution": {
     "iopub.execute_input": "2025-02-08T13:43:58.635406Z",
     "iopub.status.busy": "2025-02-08T13:43:58.635090Z",
     "iopub.status.idle": "2025-02-08T13:43:58.642698Z",
     "shell.execute_reply": "2025-02-08T13:43:58.641808Z"
    },
    "papermill": {
     "duration": 0.01416,
     "end_time": "2025-02-08T13:43:58.644090",
     "exception": false,
     "start_time": "2025-02-08T13:43:58.629930",
     "status": "completed"
    },
    "tags": []
   },
   "outputs": [
    {
     "data": {
      "text/plain": [
       "price            0\n",
       "bedrooms         0\n",
       "bathrooms        0\n",
       "sqft_living      0\n",
       "sqft_lot         0\n",
       "floors           0\n",
       "waterfront       0\n",
       "view             0\n",
       "condition        0\n",
       "grade            0\n",
       "sqft_above       0\n",
       "sqft_basement    0\n",
       "yr_built         0\n",
       "yr_renovated     0\n",
       "zipcode          0\n",
       "lat              0\n",
       "long             0\n",
       "sqft_living15    0\n",
       "sqft_lot15       0\n",
       "dtype: int64"
      ]
     },
     "execution_count": 6,
     "metadata": {},
     "output_type": "execute_result"
    }
   ],
   "source": [
    "dff.isnull().sum()"
   ]
  },
  {
   "cell_type": "code",
   "execution_count": 7,
   "id": "40481504",
   "metadata": {
    "execution": {
     "iopub.execute_input": "2025-02-08T13:43:58.654575Z",
     "iopub.status.busy": "2025-02-08T13:43:58.654243Z",
     "iopub.status.idle": "2025-02-08T13:43:58.669180Z",
     "shell.execute_reply": "2025-02-08T13:43:58.668265Z"
    },
    "papermill": {
     "duration": 0.02158,
     "end_time": "2025-02-08T13:43:58.670782",
     "exception": false,
     "start_time": "2025-02-08T13:43:58.649202",
     "status": "completed"
    },
    "tags": []
   },
   "outputs": [
    {
     "data": {
      "text/plain": [
       "5"
      ]
     },
     "execution_count": 7,
     "metadata": {},
     "output_type": "execute_result"
    }
   ],
   "source": [
    "dff.duplicated().sum()"
   ]
  },
  {
   "cell_type": "code",
   "execution_count": 8,
   "id": "49301e36",
   "metadata": {
    "execution": {
     "iopub.execute_input": "2025-02-08T13:43:58.681730Z",
     "iopub.status.busy": "2025-02-08T13:43:58.681428Z",
     "iopub.status.idle": "2025-02-08T13:43:58.695517Z",
     "shell.execute_reply": "2025-02-08T13:43:58.694648Z"
    },
    "papermill": {
     "duration": 0.021355,
     "end_time": "2025-02-08T13:43:58.697179",
     "exception": false,
     "start_time": "2025-02-08T13:43:58.675824",
     "status": "completed"
    },
    "tags": []
   },
   "outputs": [],
   "source": [
    "dff = dff.drop_duplicates()\n",
    "#dff.duplicated().sum()"
   ]
  },
  {
   "cell_type": "code",
   "execution_count": 9,
   "id": "89aae525",
   "metadata": {
    "execution": {
     "iopub.execute_input": "2025-02-08T13:43:58.707813Z",
     "iopub.status.busy": "2025-02-08T13:43:58.707530Z",
     "iopub.status.idle": "2025-02-08T13:43:58.714635Z",
     "shell.execute_reply": "2025-02-08T13:43:58.713430Z"
    },
    "papermill": {
     "duration": 0.013822,
     "end_time": "2025-02-08T13:43:58.715973",
     "exception": false,
     "start_time": "2025-02-08T13:43:58.702151",
     "status": "completed"
    },
    "tags": []
   },
   "outputs": [
    {
     "name": "stdout",
     "output_type": "stream",
     "text": [
      "19\n",
      "Numeric Columns :  Index(['price', 'bedrooms', 'bathrooms', 'sqft_living', 'sqft_lot', 'floors',\n",
      "       'waterfront', 'view', 'condition', 'grade', 'sqft_above',\n",
      "       'sqft_basement', 'yr_built', 'yr_renovated', 'zipcode', 'lat', 'long',\n",
      "       'sqft_living15', 'sqft_lot15'],\n",
      "      dtype='object')\n"
     ]
    }
   ],
   "source": [
    "numeric_columns = dff.select_dtypes(include=[\"int\",\"float\"]).columns\n",
    "categoric_columns = dff.select_dtypes(include='object').columns\n",
    "print(len(numeric_columns))\n",
    "\n",
    "print(\"Numeric Columns : \",numeric_columns)\n"
   ]
  },
  {
   "cell_type": "code",
   "execution_count": 10,
   "id": "8bb780c2",
   "metadata": {
    "execution": {
     "iopub.execute_input": "2025-02-08T13:43:58.726366Z",
     "iopub.status.busy": "2025-02-08T13:43:58.725996Z",
     "iopub.status.idle": "2025-02-08T13:43:58.731159Z",
     "shell.execute_reply": "2025-02-08T13:43:58.730305Z"
    },
    "papermill": {
     "duration": 0.011892,
     "end_time": "2025-02-08T13:43:58.732645",
     "exception": false,
     "start_time": "2025-02-08T13:43:58.720753",
     "status": "completed"
    },
    "tags": []
   },
   "outputs": [],
   "source": [
    "x = dff.drop(columns=['price'])\n",
    "y = dff['price']"
   ]
  },
  {
   "cell_type": "code",
   "execution_count": 11,
   "id": "ff321636",
   "metadata": {
    "execution": {
     "iopub.execute_input": "2025-02-08T13:43:58.742873Z",
     "iopub.status.busy": "2025-02-08T13:43:58.742612Z",
     "iopub.status.idle": "2025-02-08T13:43:58.747653Z",
     "shell.execute_reply": "2025-02-08T13:43:58.746848Z"
    },
    "papermill": {
     "duration": 0.011803,
     "end_time": "2025-02-08T13:43:58.749156",
     "exception": false,
     "start_time": "2025-02-08T13:43:58.737353",
     "status": "completed"
    },
    "tags": []
   },
   "outputs": [
    {
     "data": {
      "text/plain": [
       "((21608, 18), (21608,))"
      ]
     },
     "execution_count": 11,
     "metadata": {},
     "output_type": "execute_result"
    }
   ],
   "source": [
    "x.shape , y.shape"
   ]
  },
  {
   "cell_type": "code",
   "execution_count": 12,
   "id": "9e239c25",
   "metadata": {
    "execution": {
     "iopub.execute_input": "2025-02-08T13:43:58.759868Z",
     "iopub.status.busy": "2025-02-08T13:43:58.759614Z",
     "iopub.status.idle": "2025-02-08T13:43:58.918209Z",
     "shell.execute_reply": "2025-02-08T13:43:58.917191Z"
    },
    "papermill": {
     "duration": 0.16556,
     "end_time": "2025-02-08T13:43:58.919939",
     "exception": false,
     "start_time": "2025-02-08T13:43:58.754379",
     "status": "completed"
    },
    "tags": []
   },
   "outputs": [],
   "source": [
    "from sklearn.preprocessing import MinMaxScaler\n",
    "scaler = MinMaxScaler()\n",
    "x = scaler.fit_transform(x)\n"
   ]
  },
  {
   "cell_type": "code",
   "execution_count": 13,
   "id": "7d5b44f5",
   "metadata": {
    "execution": {
     "iopub.execute_input": "2025-02-08T13:43:58.930848Z",
     "iopub.status.busy": "2025-02-08T13:43:58.930545Z",
     "iopub.status.idle": "2025-02-08T13:43:58.970339Z",
     "shell.execute_reply": "2025-02-08T13:43:58.969166Z"
    },
    "papermill": {
     "duration": 0.047459,
     "end_time": "2025-02-08T13:43:58.972412",
     "exception": false,
     "start_time": "2025-02-08T13:43:58.924953",
     "status": "completed"
    },
    "tags": []
   },
   "outputs": [],
   "source": [
    "x = torch.tensor(x, dtype=torch.float32)\n",
    "y = torch.tensor(y, dtype=torch.float32)"
   ]
  },
  {
   "cell_type": "code",
   "execution_count": 14,
   "id": "b0452ee9",
   "metadata": {
    "execution": {
     "iopub.execute_input": "2025-02-08T13:43:58.990718Z",
     "iopub.status.busy": "2025-02-08T13:43:58.990202Z",
     "iopub.status.idle": "2025-02-08T13:43:58.998478Z",
     "shell.execute_reply": "2025-02-08T13:43:58.997564Z"
    },
    "papermill": {
     "duration": 0.019032,
     "end_time": "2025-02-08T13:43:58.999948",
     "exception": false,
     "start_time": "2025-02-08T13:43:58.980916",
     "status": "completed"
    },
    "tags": []
   },
   "outputs": [],
   "source": [
    "class NeuralNetwork(nn.Module):\n",
    "    def __init__(self):\n",
    "        super(NeuralNetwork, self).__init__()\n",
    "        self.layer1 = nn.Linear(18,128)\n",
    "        self.layer2 = nn.Linear(128,64)\n",
    "        self.layer3 = nn.Linear(64,1)\n",
    "        self.relu = nn.ReLU()\n",
    "\n",
    "    def forward(self,X):\n",
    "        x = self.relu(self.layer1(X))\n",
    "        x = self.relu(self.layer2(x))\n",
    "        x = self.layer3(x)\n",
    "        return x\n",
    "        "
   ]
  },
  {
   "cell_type": "code",
   "execution_count": 15,
   "id": "5869a80a",
   "metadata": {
    "execution": {
     "iopub.execute_input": "2025-02-08T13:43:59.010716Z",
     "iopub.status.busy": "2025-02-08T13:43:59.010424Z",
     "iopub.status.idle": "2025-02-08T13:44:03.214788Z",
     "shell.execute_reply": "2025-02-08T13:44:03.213741Z"
    },
    "papermill": {
     "duration": 4.211697,
     "end_time": "2025-02-08T13:44:03.216624",
     "exception": false,
     "start_time": "2025-02-08T13:43:59.004927",
     "status": "completed"
    },
    "tags": []
   },
   "outputs": [
    {
     "data": {
      "text/plain": [
       "NeuralNetwork(\n",
       "  (layer1): Linear(in_features=18, out_features=128, bias=True)\n",
       "  (layer2): Linear(in_features=128, out_features=64, bias=True)\n",
       "  (layer3): Linear(in_features=64, out_features=1, bias=True)\n",
       "  (relu): ReLU()\n",
       ")"
      ]
     },
     "execution_count": 15,
     "metadata": {},
     "output_type": "execute_result"
    }
   ],
   "source": [
    "model = NeuralNetwork()\n",
    "\n",
    "MSEloss = nn.MSELoss()\n",
    "optimizer = optim.Adam(model.parameters(),lr=0.001)\n",
    "\n",
    "model"
   ]
  },
  {
   "cell_type": "code",
   "execution_count": 16,
   "id": "cdcf1d7f",
   "metadata": {
    "execution": {
     "iopub.execute_input": "2025-02-08T13:44:03.228042Z",
     "iopub.status.busy": "2025-02-08T13:44:03.227588Z",
     "iopub.status.idle": "2025-02-08T13:44:03.246118Z",
     "shell.execute_reply": "2025-02-08T13:44:03.245301Z"
    },
    "papermill": {
     "duration": 0.02599,
     "end_time": "2025-02-08T13:44:03.247776",
     "exception": false,
     "start_time": "2025-02-08T13:44:03.221786",
     "status": "completed"
    },
    "tags": []
   },
   "outputs": [],
   "source": [
    "from torch.utils.data import DataLoader, TensorDataset, random_split\n",
    "train_size = int(0.8 * len(x))\n",
    "test_size = len(x) - train_size\n",
    "\n",
    "train_dataset, test_dataset = random_split(TensorDataset(x, y), [train_size, test_size])\n",
    "\n",
    "train_loader = DataLoader(train_dataset, batch_size=32, shuffle=True)\n",
    "test_loader = DataLoader(test_dataset, batch_size=32, shuffle=False)"
   ]
  },
  {
   "cell_type": "code",
   "execution_count": 17,
   "id": "a1a5c466",
   "metadata": {
    "execution": {
     "iopub.execute_input": "2025-02-08T13:44:03.258796Z",
     "iopub.status.busy": "2025-02-08T13:44:03.258494Z",
     "iopub.status.idle": "2025-02-08T13:44:54.114096Z",
     "shell.execute_reply": "2025-02-08T13:44:54.113015Z"
    },
    "papermill": {
     "duration": 50.863003,
     "end_time": "2025-02-08T13:44:54.115958",
     "exception": false,
     "start_time": "2025-02-08T13:44:03.252955",
     "status": "completed"
    },
    "tags": []
   },
   "outputs": [
    {
     "name": "stderr",
     "output_type": "stream",
     "text": [
      "/usr/local/lib/python3.10/dist-packages/torch/nn/modules/loss.py:608: UserWarning: Using a target size (torch.Size([32])) that is different to the input size (torch.Size([32, 1])). This will likely lead to incorrect results due to broadcasting. Please ensure they have the same size.\n",
      "  return F.mse_loss(input, target, reduction=self.reduction)\n",
      "/usr/local/lib/python3.10/dist-packages/torch/nn/modules/loss.py:608: UserWarning: Using a target size (torch.Size([6])) that is different to the input size (torch.Size([6, 1])). This will likely lead to incorrect results due to broadcasting. Please ensure they have the same size.\n",
      "  return F.mse_loss(input, target, reduction=self.reduction)\n",
      "/usr/local/lib/python3.10/dist-packages/torch/nn/modules/loss.py:608: UserWarning: Using a target size (torch.Size([2])) that is different to the input size (torch.Size([2, 1])). This will likely lead to incorrect results due to broadcasting. Please ensure they have the same size.\n",
      "  return F.mse_loss(input, target, reduction=self.reduction)\n"
     ]
    }
   ],
   "source": [
    "torch.manual_seed(123)\n",
    "\n",
    "epochs = 50\n",
    "train_loss = []\n",
    "test_loss = []\n",
    "\n",
    "for epoch in range(epochs):\n",
    "    model.train()\n",
    "    total_train_loss = 0\n",
    "    for batch_x , batch_y in train_loader:\n",
    "        optimizer.zero_grad()\n",
    "        y_pred = model(batch_x)\n",
    "        loss = MSEloss(y_pred,batch_y)\n",
    "        loss.backward()\n",
    "        optimizer.step()\n",
    "        total_train_loss += loss.item()\n",
    "    avg_train_loss = total_train_loss / len(train_loader)\n",
    "    train_loss.append(avg_train_loss)\n",
    "\n",
    "\n",
    "    model.eval()\n",
    "\n",
    "    total_test_loss = 0\n",
    "\n",
    "    with torch.no_grad():\n",
    "        for batch_x, batch_y in test_loader:\n",
    "            y_pred = model(batch_x)\n",
    "            loss = MSEloss(y_pred,batch_y)\n",
    "            total_test_loss += loss.item()\n",
    "    avg_test_loss = total_test_loss / len(test_loader)\n",
    "    test_loss.append(avg_test_loss)\n",
    "\n",
    "    \n",
    "    \n"
   ]
  },
  {
   "cell_type": "code",
   "execution_count": 18,
   "id": "37a42b0b",
   "metadata": {
    "execution": {
     "iopub.execute_input": "2025-02-08T13:44:54.127332Z",
     "iopub.status.busy": "2025-02-08T13:44:54.126971Z",
     "iopub.status.idle": "2025-02-08T13:44:54.422393Z",
     "shell.execute_reply": "2025-02-08T13:44:54.421388Z"
    },
    "papermill": {
     "duration": 0.30248,
     "end_time": "2025-02-08T13:44:54.423916",
     "exception": false,
     "start_time": "2025-02-08T13:44:54.121436",
     "status": "completed"
    },
    "tags": []
   },
   "outputs": [
    {
     "data": {
      "image/png": "[encoded data removed]",
      "text/plain": [
       "<Figure size 1600x500 with 1 Axes>"
      ]
     },
     "metadata": {},
     "output_type": "display_data"
    }
   ],
   "source": [
    "plt.figure(figsize=(16, 5))\n",
    "plt.plot(range(1, epochs+1), train_loss, label=\"Train Loss\", marker=\"o\")\n",
    "plt.plot(range(1, epochs+1), test_loss, label=\"Test Loss\", marker=\"s\")\n",
    "plt.xlabel(\"Epochs\")\n",
    "plt.ylabel(\"Loss (MSE)\")\n",
    "plt.title(\"Training and Testing Loss Over Epochs\")\n",
    "plt.legend()\n",
    "plt.show()"
   ]
  },
  {
   "cell_type": "code",
   "execution_count": null,
   "id": "4a558f7d",
   "metadata": {
    "papermill": {
     "duration": 0.005767,
     "end_time": "2025-02-08T13:44:54.435899",
     "exception": false,
     "start_time": "2025-02-08T13:44:54.430132",
     "status": "completed"
    },
    "tags": []
   },
   "outputs": [],
   "source": []
  }
 ],
 "metadata": {
  "kaggle": {
   "accelerator": "none",
   "dataSources": [
    {
     "datasetId": 128,
     "sourceId": 270,
     "sourceType": "datasetVersion"
    }
   ],
   "dockerImageVersionId": 30886,
   "isGpuEnabled": false,
   "isInternetEnabled": true,
   "language": "python",
   "sourceType": "notebook"
  },
  "kernelspec": {
   "display_name": "Python 3",
   "language": "python",
   "name": "python3"
  },
  "language_info": {
   "codemirror_mode": {
    "name": "ipython",
    "version": 3
   },
   "file_extension": ".py",
   "mimetype": "text/x-python",
   "name": "python",
   "nbconvert_exporter": "python",
   "pygments_lexer": "ipython3",
   "version": "3.10.12"
  },
  "papermill": {
   "default_parameters": {},
   "duration": 67.604484,
   "end_time": "2025-02-08T13:44:56.984177",
   "environment_variables": {},
   "exception": null,
   "input_path": "__notebook__.ipynb",
   "output_path": "__notebook__.ipynb",
   "parameters": {},
   "start_time": "2025-02-08T13:43:49.379693",
   "version": "2.6.0"
  }
 },
 "nbformat": 4,
 "nbformat_minor": 5
}
