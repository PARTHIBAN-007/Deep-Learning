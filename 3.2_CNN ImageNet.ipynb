{
 "cells": [
  {
   "cell_type": "markdown",
   "id": "fe027321",
   "metadata": {},
   "source": [
    "## <div style =\"font-size:25px; border-radius:25px; border:3666; padding:10px;  background-color:#fffafa; text-align:center; color:#000000;\">CNN ImageNet</div>\n"
   ]
  },
  {
   "cell_type": "markdown",
   "id": "bf87a53e",
   "metadata": {},
   "source": [
    "<img src=\"https://neurohive.io/wp-content/uploads/2018/10/AlexNet-1.png\">"
   ]
  },
  {
   "cell_type": "code",
   "execution_count": 1,
   "id": "2f869ada",
   "metadata": {
    "execution": {
     "iopub.execute_input": "2024-09-28T11:13:42.665456Z",
     "iopub.status.busy": "2024-09-28T11:13:42.665130Z",
     "iopub.status.idle": "2024-09-28T11:13:42.674483Z",
     "shell.execute_reply": "2024-09-28T11:13:42.673633Z"
    },
    "papermill": {
     "duration": 0.017593,
     "end_time": "2024-09-28T11:13:42.676494",
     "exception": false,
     "start_time": "2024-09-28T11:13:42.658901",
     "status": "completed"
    },
    "tags": []
   },
   "outputs": [],
   "source": [
    "train_path = '/kaggle/input/cats-and-dogs/train'\n",
    "test_path = '/kaggle/input/cats-and-dogs/val'"
   ]
  },
  {
   "cell_type": "code",
   "execution_count": 2,
   "id": "4f48408e",
   "metadata": {
    "execution": {
     "iopub.execute_input": "2024-09-28T11:13:42.686941Z",
     "iopub.status.busy": "2024-09-28T11:13:42.686189Z",
     "iopub.status.idle": "2024-09-28T11:13:54.533394Z",
     "shell.execute_reply": "2024-09-28T11:13:54.532570Z"
    },
    "papermill": {
     "duration": 11.854426,
     "end_time": "2024-09-28T11:13:54.535583",
     "exception": false,
     "start_time": "2024-09-28T11:13:42.681157",
     "status": "completed"
    },
    "tags": []
   },
   "outputs": [],
   "source": [
    "\n",
    "import tensorflow as tf\n",
    "from tensorflow import keras\n",
    "from tensorflow.keras import layers\n",
    "\n",
    "from tensorflow.keras.preprocessing.image import ImageDataGenerator\n",
    "from keras.optimizers import Adam\n",
    "from keras.applications import Xception"
   ]
  },
  {
   "cell_type": "code",
   "execution_count": 3,
   "id": "da93fe21",
   "metadata": {
    "execution": {
     "iopub.execute_input": "2024-09-28T11:13:54.545973Z",
     "iopub.status.busy": "2024-09-28T11:13:54.545444Z",
     "iopub.status.idle": "2024-09-28T11:13:54.550140Z",
     "shell.execute_reply": "2024-09-28T11:13:54.549297Z"
    },
    "papermill": {
     "duration": 0.01211,
     "end_time": "2024-09-28T11:13:54.552214",
     "exception": false,
     "start_time": "2024-09-28T11:13:54.540104",
     "status": "completed"
    },
    "tags": []
   },
   "outputs": [],
   "source": [
    "train_datagen = ImageDataGenerator(\n",
    "    rescale=1.0/255,               \n",
    "    rotation_range=20,             \n",
    "    width_shift_range=0.2,         \n",
    "    height_shift_range=0.2,         \n",
    "    horizontal_flip=True,          \n",
    "    fill_mode='nearest'             \n",
    ")"
   ]
  },
  {
   "cell_type": "code",
   "execution_count": 4,
   "id": "0318dd15",
   "metadata": {
    "execution": {
     "iopub.execute_input": "2024-09-28T11:13:54.562112Z",
     "iopub.status.busy": "2024-09-28T11:13:54.561441Z",
     "iopub.status.idle": "2024-09-28T11:13:54.565054Z",
     "shell.execute_reply": "2024-09-28T11:13:54.564360Z"
    },
    "papermill": {
     "duration": 0.010542,
     "end_time": "2024-09-28T11:13:54.567023",
     "exception": false,
     "start_time": "2024-09-28T11:13:54.556481",
     "status": "completed"
    },
    "tags": []
   },
   "outputs": [],
   "source": [
    "images_size = 200\n",
    "batch_size = 32"
   ]
  },
  {
   "cell_type": "code",
   "execution_count": 5,
   "id": "60c2470b",
   "metadata": {
    "execution": {
     "iopub.execute_input": "2024-09-28T11:13:54.576418Z",
     "iopub.status.busy": "2024-09-28T11:13:54.576128Z",
     "iopub.status.idle": "2024-09-28T11:13:54.609539Z",
     "shell.execute_reply": "2024-09-28T11:13:54.608868Z"
    },
    "papermill": {
     "duration": 0.040229,
     "end_time": "2024-09-28T11:13:54.611455",
     "exception": false,
     "start_time": "2024-09-28T11:13:54.571226",
     "status": "completed"
    },
    "tags": []
   },
   "outputs": [
    {
     "name": "stdout",
     "output_type": "stream",
     "text": [
      "Found 275 images belonging to 2 classes.\n"
     ]
    }
   ],
   "source": [
    "train_generator = train_datagen.flow_from_directory(\n",
    "    train_path,                    \n",
    "    target_size=(images_size, images_size), \n",
    "    batch_size=batch_size,          \n",
    "    seed=32,                        \n",
    "    shuffle=True,                    \n",
    "    class_mode='categorical'        \n",
    ")"
   ]
  },
  {
   "cell_type": "code",
   "execution_count": 6,
   "id": "a9699321",
   "metadata": {
    "execution": {
     "iopub.execute_input": "2024-09-28T11:13:54.621422Z",
     "iopub.status.busy": "2024-09-28T11:13:54.620892Z",
     "iopub.status.idle": "2024-09-28T11:13:54.624645Z",
     "shell.execute_reply": "2024-09-28T11:13:54.623859Z"
    },
    "papermill": {
     "duration": 0.010623,
     "end_time": "2024-09-28T11:13:54.626489",
     "exception": false,
     "start_time": "2024-09-28T11:13:54.615866",
     "status": "completed"
    },
    "tags": []
   },
   "outputs": [],
   "source": [
    "test_datagen = ImageDataGenerator(rescale=1.0/255)"
   ]
  },
  {
   "cell_type": "code",
   "execution_count": 7,
   "id": "b2089b76",
   "metadata": {
    "execution": {
     "iopub.execute_input": "2024-09-28T11:13:54.636092Z",
     "iopub.status.busy": "2024-09-28T11:13:54.635777Z",
     "iopub.status.idle": "2024-09-28T11:13:54.650779Z",
     "shell.execute_reply": "2024-09-28T11:13:54.649971Z"
    },
    "papermill": {
     "duration": 0.022098,
     "end_time": "2024-09-28T11:13:54.652868",
     "exception": false,
     "start_time": "2024-09-28T11:13:54.630770",
     "status": "completed"
    },
    "tags": []
   },
   "outputs": [
    {
     "name": "stdout",
     "output_type": "stream",
     "text": [
      "Found 70 images belonging to 2 classes.\n"
     ]
    }
   ],
   "source": [
    "test_generator = test_datagen.flow_from_directory(\n",
    "    test_path,\n",
    "    target_size=(images_size, images_size),\n",
    "    batch_size = batch_size,\n",
    "    class_mode='categorical')"
   ]
  },
  {
   "cell_type": "code",
   "execution_count": 8,
   "id": "a9d98841",
   "metadata": {
    "execution": {
     "iopub.execute_input": "2024-09-28T11:13:54.663704Z",
     "iopub.status.busy": "2024-09-28T11:13:54.663205Z",
     "iopub.status.idle": "2024-09-28T11:13:57.075995Z",
     "shell.execute_reply": "2024-09-28T11:13:57.074978Z"
    },
    "papermill": {
     "duration": 2.421039,
     "end_time": "2024-09-28T11:13:57.078264",
     "exception": false,
     "start_time": "2024-09-28T11:13:54.657225",
     "status": "completed"
    },
    "tags": []
   },
   "outputs": [
    {
     "name": "stdout",
     "output_type": "stream",
     "text": [
      "Downloading data from https://storage.googleapis.com/tensorflow/keras-applications/xception/xception_weights_tf_dim_ordering_tf_kernels_notop.h5\n",
      "\u001b[1m83683744/83683744\u001b[0m \u001b[32m━━━━━━━━━━━━━━━━━━━━\u001b[0m\u001b[37m\u001b[0m \u001b[1m0s\u001b[0m 0us/step\n"
     ]
    }
   ],
   "source": [
    "base_model = Xception(weights='imagenet', include_top=False, input_shape=(images_size, images_size, 3))"
   ]
  },
  {
   "cell_type": "code",
   "execution_count": 9,
   "id": "8f279c76",
   "metadata": {
    "execution": {
     "iopub.execute_input": "2024-09-28T11:13:57.090877Z",
     "iopub.status.busy": "2024-09-28T11:13:57.090410Z",
     "iopub.status.idle": "2024-09-28T11:13:57.098678Z",
     "shell.execute_reply": "2024-09-28T11:13:57.097955Z"
    },
    "papermill": {
     "duration": 0.016636,
     "end_time": "2024-09-28T11:13:57.100504",
     "exception": false,
     "start_time": "2024-09-28T11:13:57.083868",
     "status": "completed"
    },
    "tags": []
   },
   "outputs": [],
   "source": [
    "for layer in base_model.layers:\n",
    "    layer.trainable = False"
   ]
  },
  {
   "cell_type": "code",
   "execution_count": 10,
   "id": "51c01f9f",
   "metadata": {
    "execution": {
     "iopub.execute_input": "2024-09-28T11:13:57.112413Z",
     "iopub.status.busy": "2024-09-28T11:13:57.111845Z",
     "iopub.status.idle": "2024-09-28T11:13:57.144707Z",
     "shell.execute_reply": "2024-09-28T11:13:57.143883Z"
    },
    "papermill": {
     "duration": 0.040895,
     "end_time": "2024-09-28T11:13:57.146595",
     "exception": false,
     "start_time": "2024-09-28T11:13:57.105700",
     "status": "completed"
    },
    "tags": []
   },
   "outputs": [
    {
     "data": {
      "text/html": [
       "<pre style=\"white-space:pre;overflow-x:auto;line-height:normal;font-family:Menlo,'DejaVu Sans Mono',consolas,'Courier New',monospace\"><span style=\"font-weight: bold\">Model: \"sequential\"</span>\n",
       "</pre>\n"
      ],
      "text/plain": [
       "\u001b[1mModel: \"sequential\"\u001b[0m\n"
      ]
     },
     "metadata": {},
     "output_type": "display_data"
    },
    {
     "data": {
      "text/html": [
       "<pre style=\"white-space:pre;overflow-x:auto;line-height:normal;font-family:Menlo,'DejaVu Sans Mono',consolas,'Courier New',monospace\">┏━━━━━━━━━━━━━━━━━━━━━━━━━━━━━━━━━┳━━━━━━━━━━━━━━━━━━━━━━━━┳━━━━━━━━━━━━━━━┓\n",
       "┃<span style=\"font-weight: bold\"> Layer (type)                    </span>┃<span style=\"font-weight: bold\"> Output Shape           </span>┃<span style=\"font-weight: bold\">       Param # </span>┃\n",
       "┡━━━━━━━━━━━━━━━━━━━━━━━━━━━━━━━━━╇━━━━━━━━━━━━━━━━━━━━━━━━╇━━━━━━━━━━━━━━━┩\n",
       "│ xception (<span style=\"color: #0087ff; text-decoration-color: #0087ff\">Functional</span>)           │ ?                      │    <span style=\"color: #00af00; text-decoration-color: #00af00\">20,861,480</span> │\n",
       "├─────────────────────────────────┼────────────────────────┼───────────────┤\n",
       "│ flatten (<span style=\"color: #0087ff; text-decoration-color: #0087ff\">Flatten</span>)               │ ?                      │   <span style=\"color: #00af00; text-decoration-color: #00af00\">0</span> (unbuilt) │\n",
       "├─────────────────────────────────┼────────────────────────┼───────────────┤\n",
       "│ dense (<span style=\"color: #0087ff; text-decoration-color: #0087ff\">Dense</span>)                   │ ?                      │   <span style=\"color: #00af00; text-decoration-color: #00af00\">0</span> (unbuilt) │\n",
       "├─────────────────────────────────┼────────────────────────┼───────────────┤\n",
       "│ dropout (<span style=\"color: #0087ff; text-decoration-color: #0087ff\">Dropout</span>)               │ ?                      │   <span style=\"color: #00af00; text-decoration-color: #00af00\">0</span> (unbuilt) │\n",
       "├─────────────────────────────────┼────────────────────────┼───────────────┤\n",
       "│ dense_1 (<span style=\"color: #0087ff; text-decoration-color: #0087ff\">Dense</span>)                 │ ?                      │   <span style=\"color: #00af00; text-decoration-color: #00af00\">0</span> (unbuilt) │\n",
       "└─────────────────────────────────┴────────────────────────┴───────────────┘\n",
       "</pre>\n"
      ],
      "text/plain": [
       "┏━━━━━━━━━━━━━━━━━━━━━━━━━━━━━━━━━┳━━━━━━━━━━━━━━━━━━━━━━━━┳━━━━━━━━━━━━━━━┓\n",
       "┃\u001b[1m \u001b[0m\u001b[1mLayer (type)                   \u001b[0m\u001b[1m \u001b[0m┃\u001b[1m \u001b[0m\u001b[1mOutput Shape          \u001b[0m\u001b[1m \u001b[0m┃\u001b[1m \u001b[0m\u001b[1m      Param #\u001b[0m\u001b[1m \u001b[0m┃\n",
       "┡━━━━━━━━━━━━━━━━━━━━━━━━━━━━━━━━━╇━━━━━━━━━━━━━━━━━━━━━━━━╇━━━━━━━━━━━━━━━┩\n",
       "│ xception (\u001b[38;5;33mFunctional\u001b[0m)           │ ?                      │    \u001b[38;5;34m20,861,480\u001b[0m │\n",
       "├─────────────────────────────────┼────────────────────────┼───────────────┤\n",
       "│ flatten (\u001b[38;5;33mFlatten\u001b[0m)               │ ?                      │   \u001b[38;5;34m0\u001b[0m (unbuilt) │\n",
       "├─────────────────────────────────┼────────────────────────┼───────────────┤\n",
       "│ dense (\u001b[38;5;33mDense\u001b[0m)                   │ ?                      │   \u001b[38;5;34m0\u001b[0m (unbuilt) │\n",
       "├─────────────────────────────────┼────────────────────────┼───────────────┤\n",
       "│ dropout (\u001b[38;5;33mDropout\u001b[0m)               │ ?                      │   \u001b[38;5;34m0\u001b[0m (unbuilt) │\n",
       "├─────────────────────────────────┼────────────────────────┼───────────────┤\n",
       "│ dense_1 (\u001b[38;5;33mDense\u001b[0m)                 │ ?                      │   \u001b[38;5;34m0\u001b[0m (unbuilt) │\n",
       "└─────────────────────────────────┴────────────────────────┴───────────────┘\n"
      ]
     },
     "metadata": {},
     "output_type": "display_data"
    },
    {
     "data": {
      "text/html": [
       "<pre style=\"white-space:pre;overflow-x:auto;line-height:normal;font-family:Menlo,'DejaVu Sans Mono',consolas,'Courier New',monospace\"><span style=\"font-weight: bold\"> Total params: </span><span style=\"color: #00af00; text-decoration-color: #00af00\">20,861,480</span> (79.58 MB)\n",
       "</pre>\n"
      ],
      "text/plain": [
       "\u001b[1m Total params: \u001b[0m\u001b[38;5;34m20,861,480\u001b[0m (79.58 MB)\n"
      ]
     },
     "metadata": {},
     "output_type": "display_data"
    },
    {
     "data": {
      "text/html": [
       "<pre style=\"white-space:pre;overflow-x:auto;line-height:normal;font-family:Menlo,'DejaVu Sans Mono',consolas,'Courier New',monospace\"><span style=\"font-weight: bold\"> Trainable params: </span><span style=\"color: #00af00; text-decoration-color: #00af00\">0</span> (0.00 B)\n",
       "</pre>\n"
      ],
      "text/plain": [
       "\u001b[1m Trainable params: \u001b[0m\u001b[38;5;34m0\u001b[0m (0.00 B)\n"
      ]
     },
     "metadata": {},
     "output_type": "display_data"
    },
    {
     "data": {
      "text/html": [
       "<pre style=\"white-space:pre;overflow-x:auto;line-height:normal;font-family:Menlo,'DejaVu Sans Mono',consolas,'Courier New',monospace\"><span style=\"font-weight: bold\"> Non-trainable params: </span><span style=\"color: #00af00; text-decoration-color: #00af00\">20,861,480</span> (79.58 MB)\n",
       "</pre>\n"
      ],
      "text/plain": [
       "\u001b[1m Non-trainable params: \u001b[0m\u001b[38;5;34m20,861,480\u001b[0m (79.58 MB)\n"
      ]
     },
     "metadata": {},
     "output_type": "display_data"
    }
   ],
   "source": [
    "model = tf.keras.models.Sequential([\n",
    "    base_model,\n",
    "    \n",
    "    layers.Flatten(),\n",
    "    \n",
    "    layers.Dense(128,activation='relu'),\n",
    "    layers.Dropout(0.5),\n",
    "    layers.Dense(2,activation='softmax'),\n",
    "])\n",
    "\n",
    "model.summary()\n"
   ]
  },
  {
   "cell_type": "code",
   "execution_count": 11,
   "id": "a53c73d4",
   "metadata": {
    "execution": {
     "iopub.execute_input": "2024-09-28T11:13:57.159724Z",
     "iopub.status.busy": "2024-09-28T11:13:57.159459Z",
     "iopub.status.idle": "2024-09-28T11:13:57.171886Z",
     "shell.execute_reply": "2024-09-28T11:13:57.171194Z"
    },
    "papermill": {
     "duration": 0.021609,
     "end_time": "2024-09-28T11:13:57.174227",
     "exception": false,
     "start_time": "2024-09-28T11:13:57.152618",
     "status": "completed"
    },
    "tags": []
   },
   "outputs": [],
   "source": [
    "model.compile(optimizer='Adam',\n",
    "             loss=\"categorical_crossentropy\",\n",
    "              metrics=['accuracy']\n",
    "             )"
   ]
  },
  {
   "cell_type": "code",
   "execution_count": 12,
   "id": "06ac5c74",
   "metadata": {
    "execution": {
     "iopub.execute_input": "2024-09-28T11:13:57.188804Z",
     "iopub.status.busy": "2024-09-28T11:13:57.188170Z",
     "iopub.status.idle": "2024-09-28T11:13:57.192056Z",
     "shell.execute_reply": "2024-09-28T11:13:57.191215Z"
    },
    "papermill": {
     "duration": 0.013102,
     "end_time": "2024-09-28T11:13:57.193897",
     "exception": false,
     "start_time": "2024-09-28T11:13:57.180795",
     "status": "completed"
    },
    "tags": []
   },
   "outputs": [],
   "source": [
    "import warnings\n",
    "warnings.filterwarnings(\"ignore\")"
   ]
  },
  {
   "cell_type": "code",
   "execution_count": 13,
   "id": "b931853f",
   "metadata": {
    "execution": {
     "iopub.execute_input": "2024-09-28T11:13:57.207364Z",
     "iopub.status.busy": "2024-09-28T11:13:57.206718Z",
     "iopub.status.idle": "2024-09-28T11:14:43.080166Z",
     "shell.execute_reply": "2024-09-28T11:14:43.079329Z"
    },
    "papermill": {
     "duration": 45.882194,
     "end_time": "2024-09-28T11:14:43.082234",
     "exception": false,
     "start_time": "2024-09-28T11:13:57.200040",
     "status": "completed"
    },
    "tags": []
   },
   "outputs": [
    {
     "name": "stdout",
     "output_type": "stream",
     "text": [
      "Epoch 1/7\n"
     ]
    },
    {
     "name": "stderr",
     "output_type": "stream",
     "text": [
      "WARNING: All log messages before absl::InitializeLog() is called are written to STDERR\n",
      "I0000 00:00:1727522045.777746      84 service.cc:145] XLA service 0x7c62e0008ec0 initialized for platform CUDA (this does not guarantee that XLA will be used). Devices:\n",
      "I0000 00:00:1727522045.777800      84 service.cc:153]   StreamExecutor device (0): Tesla T4, Compute Capability 7.5\n",
      "I0000 00:00:1727522045.777804      84 service.cc:153]   StreamExecutor device (1): Tesla T4, Compute Capability 7.5\n"
     ]
    },
    {
     "name": "stdout",
     "output_type": "stream",
     "text": [
      "\u001b[1m1/8\u001b[0m \u001b[32m━━\u001b[0m\u001b[37m━━━━━━━━━━━━━━━━━━\u001b[0m \u001b[1m2:09\u001b[0m 18s/step - accuracy: 0.6250 - loss: 0.8187"
     ]
    },
    {
     "name": "stderr",
     "output_type": "stream",
     "text": [
      "I0000 00:00:1727522056.497780      84 device_compiler.h:188] Compiled cluster using XLA!  This line is logged at most once for the lifetime of the process.\n"
     ]
    },
    {
     "name": "stdout",
     "output_type": "stream",
     "text": [
      "\u001b[1m8/8\u001b[0m \u001b[32m━━━━━━━━━━━━━━━━━━━━\u001b[0m\u001b[37m\u001b[0m \u001b[1m30s\u001b[0m 2s/step - accuracy: 0.6997 - loss: 8.9464 - val_accuracy: 1.0000 - val_loss: 0.0060\n",
      "Epoch 2/7\n",
      "\u001b[1m8/8\u001b[0m \u001b[32m━━━━━━━━━━━━━━━━━━━━\u001b[0m\u001b[37m\u001b[0m \u001b[1m4s\u001b[0m 493ms/step - accuracy: 0.9062 - loss: 1.0301 - val_accuracy: 1.0000 - val_loss: 0.0000e+00\n",
      "Epoch 3/7\n",
      "\u001b[1m8/8\u001b[0m \u001b[32m━━━━━━━━━━━━━━━━━━━━\u001b[0m\u001b[37m\u001b[0m \u001b[1m4s\u001b[0m 167ms/step - accuracy: 0.9619 - loss: 0.9443 - val_accuracy: 1.0000 - val_loss: 0.0085\n",
      "Epoch 4/7\n",
      "\u001b[1m8/8\u001b[0m \u001b[32m━━━━━━━━━━━━━━━━━━━━\u001b[0m\u001b[37m\u001b[0m \u001b[1m0s\u001b[0m 5ms/step - accuracy: 0.9062 - loss: 0.6928 - val_accuracy: 1.0000 - val_loss: 0.0000e+00\n",
      "Epoch 5/7\n",
      "\u001b[1m8/8\u001b[0m \u001b[32m━━━━━━━━━━━━━━━━━━━━\u001b[0m\u001b[37m\u001b[0m \u001b[1m4s\u001b[0m 171ms/step - accuracy: 0.9234 - loss: 0.2841 - val_accuracy: 1.0000 - val_loss: 1.5460e-07\n",
      "Epoch 6/7\n",
      "\u001b[1m8/8\u001b[0m \u001b[32m━━━━━━━━━━━━━━━━━━━━\u001b[0m\u001b[37m\u001b[0m \u001b[1m0s\u001b[0m 6ms/step - accuracy: 1.0000 - loss: 0.0091 - val_accuracy: 1.0000 - val_loss: 0.0036\n",
      "Epoch 7/7\n",
      "\u001b[1m8/8\u001b[0m \u001b[32m━━━━━━━━━━━━━━━━━━━━\u001b[0m\u001b[37m\u001b[0m \u001b[1m4s\u001b[0m 144ms/step - accuracy: 0.9879 - loss: 0.0399 - val_accuracy: 1.0000 - val_loss: 4.1122e-06\n"
     ]
    }
   ],
   "source": [
    "history = model.fit(\n",
    "    train_generator,\n",
    "    steps_per_epoch=train_generator.samples // batch_size,\n",
    "    epochs=7,\n",
    "    validation_data=test_generator,\n",
    "    validation_steps=test_generator.samples // batch_size,\n",
    "    \n",
    ")"
   ]
  },
  {
   "cell_type": "code",
   "execution_count": 14,
   "id": "21aa8fae",
   "metadata": {
    "execution": {
     "iopub.execute_input": "2024-09-28T11:14:43.104545Z",
     "iopub.status.busy": "2024-09-28T11:14:43.103570Z",
     "iopub.status.idle": "2024-09-28T11:14:43.611567Z",
     "shell.execute_reply": "2024-09-28T11:14:43.610475Z"
    },
    "papermill": {
     "duration": 0.521133,
     "end_time": "2024-09-28T11:14:43.613877",
     "exception": false,
     "start_time": "2024-09-28T11:14:43.092744",
     "status": "completed"
    },
    "tags": []
   },
   "outputs": [
    {
     "name": "stdout",
     "output_type": "stream",
     "text": [
      "Test loss: 3.7597326354443794e-06\n",
      "Test accuracy: 1.0\n"
     ]
    }
   ],
   "source": [
    "# Evaluate on test dataset\n",
    "score = model.evaluate(test_generator, verbose=False)\n",
    "print('Test loss:', score[0])\n",
    "print('Test accuracy:', score[1])"
   ]
  }
 ],
 "metadata": {
  "kaggle": {
   "accelerator": "nvidiaTeslaT4",
   "dataSources": [
    {
     "datasetId": 3917177,
     "sourceId": 6809272,
     "sourceType": "datasetVersion"
    }
   ],
   "dockerImageVersionId": 30776,
   "isGpuEnabled": true,
   "isInternetEnabled": true,
   "language": "python",
   "sourceType": "notebook"
  },
  "kernelspec": {
   "display_name": "Python 3",
   "language": "python",
   "name": "python3"
  },
  "language_info": {
   "codemirror_mode": {
    "name": "ipython",
    "version": 3
   },
   "file_extension": ".py",
   "mimetype": "text/x-python",
   "name": "python",
   "nbconvert_exporter": "python",
   "pygments_lexer": "ipython3",
   "version": "3.10.14"
  },
  "papermill": {
   "default_parameters": {},
   "duration": 65.63067,
   "end_time": "2024-09-28T11:14:45.648160",
   "environment_variables": {},
   "exception": null,
   "input_path": "__notebook__.ipynb",
   "output_path": "__notebook__.ipynb",
   "parameters": {},
   "start_time": "2024-09-28T11:13:40.017490",
   "version": "2.6.0"
  }
 },
 "nbformat": 4,
 "nbformat_minor": 5
}
