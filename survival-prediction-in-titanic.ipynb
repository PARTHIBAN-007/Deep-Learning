{
 "cells": [
  {
   "cell_type": "markdown",
   "id": "184cdc6f",
   "metadata": {
    "papermill": {
     "duration": 0.009723,
     "end_time": "2024-09-16T10:36:53.361390",
     "exception": false,
     "start_time": "2024-09-16T10:36:53.351667",
     "status": "completed"
    },
    "tags": []
   },
   "source": [
    "<div style=\"background-color: #2C3E50; color: white; text-align: center; padding: 20px; font-family: Arial, sans-serif; font-size: 24px;\">\n",
    "        Survival Prediction Using Neural Networks\n",
    "    </div>"
   ]
  },
  {
   "cell_type": "markdown",
   "id": "435f4556",
   "metadata": {
    "papermill": {
     "duration": 0.008671,
     "end_time": "2024-09-16T10:36:53.380594",
     "exception": false,
     "start_time": "2024-09-16T10:36:53.371923",
     "status": "completed"
    },
    "tags": []
   },
   "source": [
    "<img src=\"https://img.freepik.com/premium-photo/titanic-ship-with-large-ship-front_812426-58384.jpg\" alt=\"Beach Scene\" style=\"width:100%;height:100%; border:5px solid #FF7043;\">\n"
   ]
  },
  {
   "cell_type": "markdown",
   "id": "d3ff4183",
   "metadata": {
    "papermill": {
     "duration": 0.008416,
     "end_time": "2024-09-16T10:36:53.397704",
     "exception": false,
     "start_time": "2024-09-16T10:36:53.389288",
     "status": "completed"
    },
    "tags": []
   },
   "source": [
    "<div style=\"background-color: #2C3E50; color: white; text-align: center; padding: 20px; font-family: Arial, sans-serif; font-size: 24px;\">\n",
    "Importing Necessary Libraries    </div>"
   ]
  },
  {
   "cell_type": "code",
   "execution_count": 1,
   "id": "b1a05183",
   "metadata": {
    "execution": {
     "iopub.execute_input": "2024-09-16T10:36:53.417080Z",
     "iopub.status.busy": "2024-09-16T10:36:53.416644Z",
     "iopub.status.idle": "2024-09-16T10:37:11.232586Z",
     "shell.execute_reply": "2024-09-16T10:37:11.231141Z"
    },
    "papermill": {
     "duration": 17.829011,
     "end_time": "2024-09-16T10:37:11.235610",
     "exception": false,
     "start_time": "2024-09-16T10:36:53.406599",
     "status": "completed"
    },
    "tags": []
   },
   "outputs": [],
   "source": [
    "import pandas as pd\n",
    "import numpy as np\n",
    "import seaborn as sns\n",
    "import matplotlib.pyplot as plt\n",
    "import tensorflow as tf\n",
    "from tensorflow import keras\n",
    "from sklearn.model_selection import train_test_split\n",
    "from sklearn.preprocessing import StandardScaler\n",
    "import warnings \n",
    "warnings.filterwarnings('ignore')"
   ]
  },
  {
   "cell_type": "code",
   "execution_count": 2,
   "id": "d810fe83",
   "metadata": {
    "execution": {
     "iopub.execute_input": "2024-09-16T10:37:11.255823Z",
     "iopub.status.busy": "2024-09-16T10:37:11.255047Z",
     "iopub.status.idle": "2024-09-16T10:37:11.311520Z",
     "shell.execute_reply": "2024-09-16T10:37:11.310263Z"
    },
    "papermill": {
     "duration": 0.069404,
     "end_time": "2024-09-16T10:37:11.314134",
     "exception": false,
     "start_time": "2024-09-16T10:37:11.244730",
     "status": "completed"
    },
    "tags": []
   },
   "outputs": [
    {
     "data": {
      "text/html": [
       "<div>\n",
       "<style scoped>\n",
       "    .dataframe tbody tr th:only-of-type {\n",
       "        vertical-align: middle;\n",
       "    }\n",
       "\n",
       "    .dataframe tbody tr th {\n",
       "        vertical-align: top;\n",
       "    }\n",
       "\n",
       "    .dataframe thead th {\n",
       "        text-align: right;\n",
       "    }\n",
       "</style>\n",
       "<table border=\"1\" class=\"dataframe\">\n",
       "  <thead>\n",
       "    <tr style=\"text-align: right;\">\n",
       "      <th></th>\n",
       "      <th>PassengerId</th>\n",
       "      <th>Survived</th>\n",
       "      <th>Pclass</th>\n",
       "      <th>Name</th>\n",
       "      <th>Sex</th>\n",
       "      <th>Age</th>\n",
       "      <th>SibSp</th>\n",
       "      <th>Parch</th>\n",
       "      <th>Ticket</th>\n",
       "      <th>Fare</th>\n",
       "      <th>Cabin</th>\n",
       "      <th>Embarked</th>\n",
       "    </tr>\n",
       "  </thead>\n",
       "  <tbody>\n",
       "    <tr>\n",
       "      <th>0</th>\n",
       "      <td>1</td>\n",
       "      <td>0</td>\n",
       "      <td>3</td>\n",
       "      <td>Braund, Mr. Owen Harris</td>\n",
       "      <td>male</td>\n",
       "      <td>22.0</td>\n",
       "      <td>1</td>\n",
       "      <td>0</td>\n",
       "      <td>A/5 21171</td>\n",
       "      <td>7.2500</td>\n",
       "      <td>NaN</td>\n",
       "      <td>S</td>\n",
       "    </tr>\n",
       "    <tr>\n",
       "      <th>1</th>\n",
       "      <td>2</td>\n",
       "      <td>1</td>\n",
       "      <td>1</td>\n",
       "      <td>Cumings, Mrs. John Bradley (Florence Briggs Th...</td>\n",
       "      <td>female</td>\n",
       "      <td>38.0</td>\n",
       "      <td>1</td>\n",
       "      <td>0</td>\n",
       "      <td>PC 17599</td>\n",
       "      <td>71.2833</td>\n",
       "      <td>C85</td>\n",
       "      <td>C</td>\n",
       "    </tr>\n",
       "    <tr>\n",
       "      <th>2</th>\n",
       "      <td>3</td>\n",
       "      <td>1</td>\n",
       "      <td>3</td>\n",
       "      <td>Heikkinen, Miss. Laina</td>\n",
       "      <td>female</td>\n",
       "      <td>26.0</td>\n",
       "      <td>0</td>\n",
       "      <td>0</td>\n",
       "      <td>STON/O2. 3101282</td>\n",
       "      <td>7.9250</td>\n",
       "      <td>NaN</td>\n",
       "      <td>S</td>\n",
       "    </tr>\n",
       "    <tr>\n",
       "      <th>3</th>\n",
       "      <td>4</td>\n",
       "      <td>1</td>\n",
       "      <td>1</td>\n",
       "      <td>Futrelle, Mrs. Jacques Heath (Lily May Peel)</td>\n",
       "      <td>female</td>\n",
       "      <td>35.0</td>\n",
       "      <td>1</td>\n",
       "      <td>0</td>\n",
       "      <td>113803</td>\n",
       "      <td>53.1000</td>\n",
       "      <td>C123</td>\n",
       "      <td>S</td>\n",
       "    </tr>\n",
       "    <tr>\n",
       "      <th>4</th>\n",
       "      <td>5</td>\n",
       "      <td>0</td>\n",
       "      <td>3</td>\n",
       "      <td>Allen, Mr. William Henry</td>\n",
       "      <td>male</td>\n",
       "      <td>35.0</td>\n",
       "      <td>0</td>\n",
       "      <td>0</td>\n",
       "      <td>373450</td>\n",
       "      <td>8.0500</td>\n",
       "      <td>NaN</td>\n",
       "      <td>S</td>\n",
       "    </tr>\n",
       "  </tbody>\n",
       "</table>\n",
       "</div>"
      ],
      "text/plain": [
       "   PassengerId  Survived  Pclass  \\\n",
       "0            1         0       3   \n",
       "1            2         1       1   \n",
       "2            3         1       3   \n",
       "3            4         1       1   \n",
       "4            5         0       3   \n",
       "\n",
       "                                                Name     Sex   Age  SibSp  \\\n",
       "0                            Braund, Mr. Owen Harris    male  22.0      1   \n",
       "1  Cumings, Mrs. John Bradley (Florence Briggs Th...  female  38.0      1   \n",
       "2                             Heikkinen, Miss. Laina  female  26.0      0   \n",
       "3       Futrelle, Mrs. Jacques Heath (Lily May Peel)  female  35.0      1   \n",
       "4                           Allen, Mr. William Henry    male  35.0      0   \n",
       "\n",
       "   Parch            Ticket     Fare Cabin Embarked  \n",
       "0      0         A/5 21171   7.2500   NaN        S  \n",
       "1      0          PC 17599  71.2833   C85        C  \n",
       "2      0  STON/O2. 3101282   7.9250   NaN        S  \n",
       "3      0            113803  53.1000  C123        S  \n",
       "4      0            373450   8.0500   NaN        S  "
      ]
     },
     "execution_count": 2,
     "metadata": {},
     "output_type": "execute_result"
    }
   ],
   "source": [
    "train_df  = pd.read_csv(\"/kaggle/input/titanic/train.csv\")\n",
    "val_df = pd.read_csv(\"/kaggle/input/titanic/test.csv\")\n",
    "train_df.head(5)\n"
   ]
  },
  {
   "cell_type": "markdown",
   "id": "3433cca0",
   "metadata": {
    "papermill": {
     "duration": 0.008789,
     "end_time": "2024-09-16T10:37:11.332302",
     "exception": false,
     "start_time": "2024-09-16T10:37:11.323513",
     "status": "completed"
    },
    "tags": []
   },
   "source": [
    "<div style=\"background-color: #2C3E50; color: white; text-align: center; padding: 20px; font-family: Arial, sans-serif; font-size: 24px;\">\n",
    "Exploratory Data Analysis   </div>"
   ]
  },
  {
   "cell_type": "code",
   "execution_count": 3,
   "id": "8a3727c7",
   "metadata": {
    "execution": {
     "iopub.execute_input": "2024-09-16T10:37:11.352586Z",
     "iopub.status.busy": "2024-09-16T10:37:11.352065Z",
     "iopub.status.idle": "2024-09-16T10:37:11.359224Z",
     "shell.execute_reply": "2024-09-16T10:37:11.357897Z"
    },
    "papermill": {
     "duration": 0.02052,
     "end_time": "2024-09-16T10:37:11.361891",
     "exception": false,
     "start_time": "2024-09-16T10:37:11.341371",
     "status": "completed"
    },
    "tags": []
   },
   "outputs": [
    {
     "name": "stdout",
     "output_type": "stream",
     "text": [
      "Dimensions of Train Data : (891, 12)\n",
      "Dimensions of Test Data : (418, 11)\n"
     ]
    }
   ],
   "source": [
    "print(f\"Dimensions of Train Data : {train_df.shape}\")\n",
    "print(f\"Dimensions of Test Data : {val_df.shape}\")"
   ]
  },
  {
   "cell_type": "code",
   "execution_count": 4,
   "id": "43f43641",
   "metadata": {
    "execution": {
     "iopub.execute_input": "2024-09-16T10:37:11.382689Z",
     "iopub.status.busy": "2024-09-16T10:37:11.382142Z",
     "iopub.status.idle": "2024-09-16T10:37:11.394673Z",
     "shell.execute_reply": "2024-09-16T10:37:11.393393Z"
    },
    "papermill": {
     "duration": 0.026089,
     "end_time": "2024-09-16T10:37:11.397323",
     "exception": false,
     "start_time": "2024-09-16T10:37:11.371234",
     "status": "completed"
    },
    "tags": []
   },
   "outputs": [
    {
     "data": {
      "text/plain": [
       "PassengerId      0\n",
       "Survived         0\n",
       "Pclass           0\n",
       "Name             0\n",
       "Sex              0\n",
       "Age            177\n",
       "SibSp            0\n",
       "Parch            0\n",
       "Ticket           0\n",
       "Fare             0\n",
       "Cabin          687\n",
       "Embarked         2\n",
       "dtype: int64"
      ]
     },
     "execution_count": 4,
     "metadata": {},
     "output_type": "execute_result"
    }
   ],
   "source": [
    "train_df.isna().sum()"
   ]
  },
  {
   "cell_type": "code",
   "execution_count": 5,
   "id": "8544ec5b",
   "metadata": {
    "execution": {
     "iopub.execute_input": "2024-09-16T10:37:11.419366Z",
     "iopub.status.busy": "2024-09-16T10:37:11.418929Z",
     "iopub.status.idle": "2024-09-16T10:37:11.446592Z",
     "shell.execute_reply": "2024-09-16T10:37:11.445305Z"
    },
    "papermill": {
     "duration": 0.041734,
     "end_time": "2024-09-16T10:37:11.449268",
     "exception": false,
     "start_time": "2024-09-16T10:37:11.407534",
     "status": "completed"
    },
    "tags": []
   },
   "outputs": [
    {
     "name": "stdout",
     "output_type": "stream",
     "text": [
      "<class 'pandas.core.frame.DataFrame'>\n",
      "RangeIndex: 891 entries, 0 to 890\n",
      "Data columns (total 12 columns):\n",
      " #   Column       Non-Null Count  Dtype  \n",
      "---  ------       --------------  -----  \n",
      " 0   PassengerId  891 non-null    int64  \n",
      " 1   Survived     891 non-null    int64  \n",
      " 2   Pclass       891 non-null    int64  \n",
      " 3   Name         891 non-null    object \n",
      " 4   Sex          891 non-null    object \n",
      " 5   Age          714 non-null    float64\n",
      " 6   SibSp        891 non-null    int64  \n",
      " 7   Parch        891 non-null    int64  \n",
      " 8   Ticket       891 non-null    object \n",
      " 9   Fare         891 non-null    float64\n",
      " 10  Cabin        204 non-null    object \n",
      " 11  Embarked     889 non-null    object \n",
      "dtypes: float64(2), int64(5), object(5)\n",
      "memory usage: 83.7+ KB\n"
     ]
    }
   ],
   "source": [
    "train_df.info()"
   ]
  },
  {
   "cell_type": "code",
   "execution_count": 6,
   "id": "93b73e23",
   "metadata": {
    "execution": {
     "iopub.execute_input": "2024-09-16T10:37:11.470406Z",
     "iopub.status.busy": "2024-09-16T10:37:11.469894Z",
     "iopub.status.idle": "2024-09-16T10:37:11.484882Z",
     "shell.execute_reply": "2024-09-16T10:37:11.483623Z"
    },
    "papermill": {
     "duration": 0.028801,
     "end_time": "2024-09-16T10:37:11.487640",
     "exception": false,
     "start_time": "2024-09-16T10:37:11.458839",
     "status": "completed"
    },
    "tags": []
   },
   "outputs": [
    {
     "data": {
      "text/plain": [
       "PassengerId    891\n",
       "Survived         2\n",
       "Pclass           3\n",
       "Name           891\n",
       "Sex              2\n",
       "Age             88\n",
       "SibSp            7\n",
       "Parch            7\n",
       "Ticket         681\n",
       "Fare           248\n",
       "Cabin          147\n",
       "Embarked         3\n",
       "dtype: int64"
      ]
     },
     "execution_count": 6,
     "metadata": {},
     "output_type": "execute_result"
    }
   ],
   "source": [
    "train_df.nunique()"
   ]
  },
  {
   "cell_type": "markdown",
   "id": "266d6b50",
   "metadata": {
    "papermill": {
     "duration": 0.009702,
     "end_time": "2024-09-16T10:37:11.507212",
     "exception": false,
     "start_time": "2024-09-16T10:37:11.497510",
     "status": "completed"
    },
    "tags": []
   },
   "source": [
    "<div style=\"background-color: #2C3E50; color: white; text-align: center; padding: 20px; font-family: Arial, sans-serif; font-size: 24px;\">\n",
    "Data visualization   </div>"
   ]
  },
  {
   "cell_type": "code",
   "execution_count": 7,
   "id": "38068de0",
   "metadata": {
    "execution": {
     "iopub.execute_input": "2024-09-16T10:37:11.529099Z",
     "iopub.status.busy": "2024-09-16T10:37:11.528673Z",
     "iopub.status.idle": "2024-09-16T10:37:11.804261Z",
     "shell.execute_reply": "2024-09-16T10:37:11.802853Z"
    },
    "papermill": {
     "duration": 0.290051,
     "end_time": "2024-09-16T10:37:11.807078",
     "exception": false,
     "start_time": "2024-09-16T10:37:11.517027",
     "status": "completed"
    },
    "tags": []
   },
   "outputs": [
    {
     "data": {
      "image/png": "[encoded data removed]",
      "text/plain": [
       "<Figure size 640x480 with 1 Axes>"
      ]
     },
     "metadata": {},
     "output_type": "display_data"
    }
   ],
   "source": [
    "\n",
    "sns.countplot(data = train_df , x ='Survived')\n",
    "plt.xlabel(\"Survived\")\n",
    "plt.ylabel(\"No of People\")\n",
    "plt.title(\"No of People survived\")\n",
    "plt.show()"
   ]
  },
  {
   "cell_type": "code",
   "execution_count": 8,
   "id": "a0454e44",
   "metadata": {
    "execution": {
     "iopub.execute_input": "2024-09-16T10:37:11.829506Z",
     "iopub.status.busy": "2024-09-16T10:37:11.829044Z",
     "iopub.status.idle": "2024-09-16T10:37:12.083544Z",
     "shell.execute_reply": "2024-09-16T10:37:12.082084Z"
    },
    "papermill": {
     "duration": 0.269049,
     "end_time": "2024-09-16T10:37:12.086352",
     "exception": false,
     "start_time": "2024-09-16T10:37:11.817303",
     "status": "completed"
    },
    "tags": []
   },
   "outputs": [
    {
     "data": {
      "image/png": "[encoded data removed]",
      "text/plain": [
       "<Figure size 640x480 with 1 Axes>"
      ]
     },
     "metadata": {},
     "output_type": "display_data"
    }
   ],
   "source": [
    "sns.countplot(data = train_df , x ='Sex')\n",
    "plt.xlabel(\"Sex\")\n",
    "plt.ylabel(\"No of People\")\n",
    "plt.title(\"No of people Based on Sex\")\n",
    "plt.show()"
   ]
  },
  {
   "cell_type": "code",
   "execution_count": 9,
   "id": "ed709bed",
   "metadata": {
    "execution": {
     "iopub.execute_input": "2024-09-16T10:37:12.110213Z",
     "iopub.status.busy": "2024-09-16T10:37:12.109780Z",
     "iopub.status.idle": "2024-09-16T10:37:12.310028Z",
     "shell.execute_reply": "2024-09-16T10:37:12.308746Z"
    },
    "papermill": {
     "duration": 0.21526,
     "end_time": "2024-09-16T10:37:12.312910",
     "exception": false,
     "start_time": "2024-09-16T10:37:12.097650",
     "status": "completed"
    },
    "tags": []
   },
   "outputs": [
    {
     "data": {
      "image/png": "[encoded data removed]",
      "text/plain": [
       "<Figure size 640x480 with 1 Axes>"
      ]
     },
     "metadata": {},
     "output_type": "display_data"
    }
   ],
   "source": [
    "sns.barplot(train_df, x=\"Sex\", y=\"Survived\",ci = None)\n",
    "plt.xlabel(\"Sex\")\n",
    "plt.ylabel(\"Survive Rate\")\n",
    "plt.title(\"Survive Rate Based On Sex\")\n",
    "plt.show()\n"
   ]
  },
  {
   "cell_type": "markdown",
   "id": "3e46d8e9",
   "metadata": {
    "papermill": {
     "duration": 0.010931,
     "end_time": "2024-09-16T10:37:12.335214",
     "exception": false,
     "start_time": "2024-09-16T10:37:12.324283",
     "status": "completed"
    },
    "tags": []
   },
   "source": [
    "<div style=\"background-color: #2C3E50; color: white; text-align: center; padding: 20px; font-family: Arial, sans-serif; font-size: 24px;\">\n",
    "Data Preprocessing    </div>"
   ]
  },
  {
   "cell_type": "code",
   "execution_count": 10,
   "id": "afe71e9f",
   "metadata": {
    "execution": {
     "iopub.execute_input": "2024-09-16T10:37:12.360629Z",
     "iopub.status.busy": "2024-09-16T10:37:12.359296Z",
     "iopub.status.idle": "2024-09-16T10:37:12.367806Z",
     "shell.execute_reply": "2024-09-16T10:37:12.366540Z"
    },
    "papermill": {
     "duration": 0.023692,
     "end_time": "2024-09-16T10:37:12.370365",
     "exception": false,
     "start_time": "2024-09-16T10:37:12.346673",
     "status": "completed"
    },
    "tags": []
   },
   "outputs": [],
   "source": [
    "def data_preprocess(df):\n",
    "    df = df.copy()\n",
    "    \n",
    "    df['Sex'] = df['Sex'].map({'male': 0, 'female': 1})\n",
    "    df['Age'] = df['Age'].fillna(df['Age'].median())\n",
    "    df['Embarked'] = df['Embarked'].fillna('S')\n",
    "    df['Embarked'] = df['Embarked'].map({'S': 0, 'C': 1, 'Q': 2})\n",
    "    return df[['Pclass', 'Sex', 'Age', 'SibSp', 'Parch', 'Fare', 'Embarked']]"
   ]
  },
  {
   "cell_type": "code",
   "execution_count": 11,
   "id": "40535c3f",
   "metadata": {
    "execution": {
     "iopub.execute_input": "2024-09-16T10:37:12.394101Z",
     "iopub.status.busy": "2024-09-16T10:37:12.393623Z",
     "iopub.status.idle": "2024-09-16T10:37:12.409333Z",
     "shell.execute_reply": "2024-09-16T10:37:12.408039Z"
    },
    "papermill": {
     "duration": 0.031371,
     "end_time": "2024-09-16T10:37:12.412661",
     "exception": false,
     "start_time": "2024-09-16T10:37:12.381290",
     "status": "completed"
    },
    "tags": []
   },
   "outputs": [],
   "source": [
    "x = data_preprocess(train_df)\n",
    "y = train_df['Survived']"
   ]
  },
  {
   "cell_type": "code",
   "execution_count": 12,
   "id": "caaa5a19",
   "metadata": {
    "execution": {
     "iopub.execute_input": "2024-09-16T10:37:12.437300Z",
     "iopub.status.busy": "2024-09-16T10:37:12.435958Z",
     "iopub.status.idle": "2024-09-16T10:37:12.447501Z",
     "shell.execute_reply": "2024-09-16T10:37:12.445923Z"
    },
    "papermill": {
     "duration": 0.026676,
     "end_time": "2024-09-16T10:37:12.450253",
     "exception": false,
     "start_time": "2024-09-16T10:37:12.423577",
     "status": "completed"
    },
    "tags": []
   },
   "outputs": [],
   "source": [
    "x_train, x_test, y_train, y_test = train_test_split(x, y, test_size=0.2, random_state=42)"
   ]
  },
  {
   "cell_type": "code",
   "execution_count": 13,
   "id": "e9c19dc6",
   "metadata": {
    "execution": {
     "iopub.execute_input": "2024-09-16T10:37:12.473718Z",
     "iopub.status.busy": "2024-09-16T10:37:12.473282Z",
     "iopub.status.idle": "2024-09-16T10:37:12.486414Z",
     "shell.execute_reply": "2024-09-16T10:37:12.485264Z"
    },
    "papermill": {
     "duration": 0.027946,
     "end_time": "2024-09-16T10:37:12.489126",
     "exception": false,
     "start_time": "2024-09-16T10:37:12.461180",
     "status": "completed"
    },
    "tags": []
   },
   "outputs": [],
   "source": [
    "scaler = StandardScaler()\n",
    "x_train_df = scaler.fit_transform(x_train)\n",
    "x_test_df = scaler.transform(x_test)"
   ]
  },
  {
   "cell_type": "markdown",
   "id": "d948c2ad",
   "metadata": {
    "papermill": {
     "duration": 0.010548,
     "end_time": "2024-09-16T10:37:12.510593",
     "exception": false,
     "start_time": "2024-09-16T10:37:12.500045",
     "status": "completed"
    },
    "tags": []
   },
   "source": [
    "\n",
    "<div style=\"background-color: #2C3E50; color: white; text-align: center; padding: 20px; font-family: Arial, sans-serif; font-size: 24px;\">\n",
    "Model Building  </div>"
   ]
  },
  {
   "cell_type": "code",
   "execution_count": 14,
   "id": "84bc8023",
   "metadata": {
    "execution": {
     "iopub.execute_input": "2024-09-16T10:37:12.534182Z",
     "iopub.status.busy": "2024-09-16T10:37:12.533739Z",
     "iopub.status.idle": "2024-09-16T10:37:12.716856Z",
     "shell.execute_reply": "2024-09-16T10:37:12.715659Z"
    },
    "papermill": {
     "duration": 0.198347,
     "end_time": "2024-09-16T10:37:12.719756",
     "exception": false,
     "start_time": "2024-09-16T10:37:12.521409",
     "status": "completed"
    },
    "tags": []
   },
   "outputs": [],
   "source": [
    "model = keras.Sequential([\n",
    "    keras.layers.Dense(64, activation='relu', input_shape=(x_train_df.shape[1],)),\n",
    "    keras.layers.Dense(64, activation='relu'),\n",
    "    keras.layers.Dense(32, activation='relu'),\n",
    "    keras.layers.Dense(1, activation='sigmoid')\n",
    "])"
   ]
  },
  {
   "cell_type": "code",
   "execution_count": 15,
   "id": "0fe59b9d",
   "metadata": {
    "execution": {
     "iopub.execute_input": "2024-09-16T10:37:12.744055Z",
     "iopub.status.busy": "2024-09-16T10:37:12.743638Z",
     "iopub.status.idle": "2024-09-16T10:37:12.760068Z",
     "shell.execute_reply": "2024-09-16T10:37:12.758856Z"
    },
    "papermill": {
     "duration": 0.031911,
     "end_time": "2024-09-16T10:37:12.762962",
     "exception": false,
     "start_time": "2024-09-16T10:37:12.731051",
     "status": "completed"
    },
    "tags": []
   },
   "outputs": [],
   "source": [
    "model.compile(optimizer='adam',\n",
    "              loss='binary_crossentropy',\n",
    "              metrics=['accuracy'])"
   ]
  },
  {
   "cell_type": "code",
   "execution_count": 16,
   "id": "d8ea4aa0",
   "metadata": {
    "execution": {
     "iopub.execute_input": "2024-09-16T10:37:12.786630Z",
     "iopub.status.busy": "2024-09-16T10:37:12.786168Z",
     "iopub.status.idle": "2024-09-16T10:37:17.116170Z",
     "shell.execute_reply": "2024-09-16T10:37:17.114647Z"
    },
    "papermill": {
     "duration": 4.345511,
     "end_time": "2024-09-16T10:37:17.119448",
     "exception": false,
     "start_time": "2024-09-16T10:37:12.773937",
     "status": "completed"
    },
    "tags": []
   },
   "outputs": [
    {
     "name": "stdout",
     "output_type": "stream",
     "text": [
      "Epoch 1/22\n",
      "\u001b[1m23/23\u001b[0m \u001b[32m━━━━━━━━━━━━━━━━━━━━\u001b[0m\u001b[37m\u001b[0m \u001b[1m2s\u001b[0m 12ms/step - accuracy: 0.5067 - loss: 0.7053 - val_accuracy: 0.7989 - val_loss: 0.5795\n",
      "Epoch 2/22\n",
      "\u001b[1m23/23\u001b[0m \u001b[32m━━━━━━━━━━━━━━━━━━━━\u001b[0m\u001b[37m\u001b[0m \u001b[1m0s\u001b[0m 4ms/step - accuracy: 0.8328 - loss: 0.5268 - val_accuracy: 0.7989 - val_loss: 0.4595\n",
      "Epoch 3/22\n",
      "\u001b[1m23/23\u001b[0m \u001b[32m━━━━━━━━━━━━━━━━━━━━\u001b[0m\u001b[37m\u001b[0m \u001b[1m0s\u001b[0m 4ms/step - accuracy: 0.8046 - loss: 0.4499 - val_accuracy: 0.7989 - val_loss: 0.4302\n",
      "Epoch 4/22\n",
      "\u001b[1m23/23\u001b[0m \u001b[32m━━━━━━━━━━━━━━━━━━━━\u001b[0m\u001b[37m\u001b[0m \u001b[1m0s\u001b[0m 4ms/step - accuracy: 0.7855 - loss: 0.4377 - val_accuracy: 0.7933 - val_loss: 0.4258\n",
      "Epoch 5/22\n",
      "\u001b[1m23/23\u001b[0m \u001b[32m━━━━━━━━━━━━━━━━━━━━\u001b[0m\u001b[37m\u001b[0m \u001b[1m0s\u001b[0m 3ms/step - accuracy: 0.8244 - loss: 0.4003 - val_accuracy: 0.7989 - val_loss: 0.4235\n",
      "Epoch 6/22\n",
      "\u001b[1m23/23\u001b[0m \u001b[32m━━━━━━━━━━━━━━━━━━━━\u001b[0m\u001b[37m\u001b[0m \u001b[1m0s\u001b[0m 3ms/step - accuracy: 0.8246 - loss: 0.4057 - val_accuracy: 0.7989 - val_loss: 0.4305\n",
      "Epoch 7/22\n",
      "\u001b[1m23/23\u001b[0m \u001b[32m━━━━━━━━━━━━━━━━━━━━\u001b[0m\u001b[37m\u001b[0m \u001b[1m0s\u001b[0m 3ms/step - accuracy: 0.8040 - loss: 0.4456 - val_accuracy: 0.8101 - val_loss: 0.4292\n",
      "Epoch 8/22\n",
      "\u001b[1m23/23\u001b[0m \u001b[32m━━━━━━━━━━━━━━━━━━━━\u001b[0m\u001b[37m\u001b[0m \u001b[1m0s\u001b[0m 3ms/step - accuracy: 0.8611 - loss: 0.3543 - val_accuracy: 0.8045 - val_loss: 0.4317\n",
      "Epoch 9/22\n",
      "\u001b[1m23/23\u001b[0m \u001b[32m━━━━━━━━━━━━━━━━━━━━\u001b[0m\u001b[37m\u001b[0m \u001b[1m0s\u001b[0m 3ms/step - accuracy: 0.8308 - loss: 0.4160 - val_accuracy: 0.8101 - val_loss: 0.4316\n",
      "Epoch 10/22\n",
      "\u001b[1m23/23\u001b[0m \u001b[32m━━━━━━━━━━━━━━━━━━━━\u001b[0m\u001b[37m\u001b[0m \u001b[1m0s\u001b[0m 3ms/step - accuracy: 0.8327 - loss: 0.3798 - val_accuracy: 0.8045 - val_loss: 0.4386\n",
      "Epoch 11/22\n",
      "\u001b[1m23/23\u001b[0m \u001b[32m━━━━━━━━━━━━━━━━━━━━\u001b[0m\u001b[37m\u001b[0m \u001b[1m0s\u001b[0m 3ms/step - accuracy: 0.8330 - loss: 0.4001 - val_accuracy: 0.8101 - val_loss: 0.4283\n",
      "Epoch 12/22\n",
      "\u001b[1m23/23\u001b[0m \u001b[32m━━━━━━━━━━━━━━━━━━━━\u001b[0m\u001b[37m\u001b[0m \u001b[1m0s\u001b[0m 3ms/step - accuracy: 0.8430 - loss: 0.3827 - val_accuracy: 0.8101 - val_loss: 0.4317\n",
      "Epoch 13/22\n",
      "\u001b[1m23/23\u001b[0m \u001b[32m━━━━━━━━━━━━━━━━━━━━\u001b[0m\u001b[37m\u001b[0m \u001b[1m0s\u001b[0m 3ms/step - accuracy: 0.8510 - loss: 0.3692 - val_accuracy: 0.8156 - val_loss: 0.4374\n",
      "Epoch 14/22\n",
      "\u001b[1m23/23\u001b[0m \u001b[32m━━━━━━━━━━━━━━━━━━━━\u001b[0m\u001b[37m\u001b[0m \u001b[1m0s\u001b[0m 3ms/step - accuracy: 0.8456 - loss: 0.3795 - val_accuracy: 0.8101 - val_loss: 0.4331\n",
      "Epoch 15/22\n",
      "\u001b[1m23/23\u001b[0m \u001b[32m━━━━━━━━━━━━━━━━━━━━\u001b[0m\u001b[37m\u001b[0m \u001b[1m0s\u001b[0m 3ms/step - accuracy: 0.8337 - loss: 0.3704 - val_accuracy: 0.8156 - val_loss: 0.4382\n",
      "Epoch 16/22\n",
      "\u001b[1m23/23\u001b[0m \u001b[32m━━━━━━━━━━━━━━━━━━━━\u001b[0m\u001b[37m\u001b[0m \u001b[1m0s\u001b[0m 3ms/step - accuracy: 0.8558 - loss: 0.3631 - val_accuracy: 0.8045 - val_loss: 0.4480\n",
      "Epoch 17/22\n",
      "\u001b[1m23/23\u001b[0m \u001b[32m━━━━━━━━━━━━━━━━━━━━\u001b[0m\u001b[37m\u001b[0m \u001b[1m0s\u001b[0m 3ms/step - accuracy: 0.8543 - loss: 0.3508 - val_accuracy: 0.8101 - val_loss: 0.4421\n",
      "Epoch 18/22\n",
      "\u001b[1m23/23\u001b[0m \u001b[32m━━━━━━━━━━━━━━━━━━━━\u001b[0m\u001b[37m\u001b[0m \u001b[1m0s\u001b[0m 3ms/step - accuracy: 0.8510 - loss: 0.3671 - val_accuracy: 0.8101 - val_loss: 0.4461\n",
      "Epoch 19/22\n",
      "\u001b[1m23/23\u001b[0m \u001b[32m━━━━━━━━━━━━━━━━━━━━\u001b[0m\u001b[37m\u001b[0m \u001b[1m0s\u001b[0m 3ms/step - accuracy: 0.8456 - loss: 0.3780 - val_accuracy: 0.8156 - val_loss: 0.4398\n",
      "Epoch 20/22\n",
      "\u001b[1m23/23\u001b[0m \u001b[32m━━━━━━━━━━━━━━━━━━━━\u001b[0m\u001b[37m\u001b[0m \u001b[1m0s\u001b[0m 3ms/step - accuracy: 0.8429 - loss: 0.3796 - val_accuracy: 0.8156 - val_loss: 0.4423\n",
      "Epoch 21/22\n",
      "\u001b[1m23/23\u001b[0m \u001b[32m━━━━━━━━━━━━━━━━━━━━\u001b[0m\u001b[37m\u001b[0m \u001b[1m0s\u001b[0m 4ms/step - accuracy: 0.8572 - loss: 0.3693 - val_accuracy: 0.8045 - val_loss: 0.4408\n",
      "Epoch 22/22\n",
      "\u001b[1m23/23\u001b[0m \u001b[32m━━━━━━━━━━━━━━━━━━━━\u001b[0m\u001b[37m\u001b[0m \u001b[1m0s\u001b[0m 3ms/step - accuracy: 0.8526 - loss: 0.3652 - val_accuracy: 0.8045 - val_loss: 0.4452\n"
     ]
    }
   ],
   "source": [
    "history = model.fit(\n",
    "    x_train_df, y_train,\n",
    "    epochs=22,\n",
    "    batch_size=32,\n",
    "    validation_data=(x_test_df, y_test),\n",
    "    verbose=1\n",
    ")"
   ]
  },
  {
   "cell_type": "code",
   "execution_count": 17,
   "id": "b21d3eac",
   "metadata": {
    "execution": {
     "iopub.execute_input": "2024-09-16T10:37:17.157543Z",
     "iopub.status.busy": "2024-09-16T10:37:17.156630Z",
     "iopub.status.idle": "2024-09-16T10:37:17.169214Z",
     "shell.execute_reply": "2024-09-16T10:37:17.168007Z"
    },
    "papermill": {
     "duration": 0.033981,
     "end_time": "2024-09-16T10:37:17.171813",
     "exception": false,
     "start_time": "2024-09-16T10:37:17.137832",
     "status": "completed"
    },
    "tags": []
   },
   "outputs": [],
   "source": [
    "\n",
    "valid_df = data_preprocess(val_df)\n",
    "validation_df = scaler.transform(valid_df)"
   ]
  },
  {
   "cell_type": "code",
   "execution_count": 18,
   "id": "0318ddba",
   "metadata": {
    "execution": {
     "iopub.execute_input": "2024-09-16T10:37:17.208880Z",
     "iopub.status.busy": "2024-09-16T10:37:17.208396Z",
     "iopub.status.idle": "2024-09-16T10:37:17.419642Z",
     "shell.execute_reply": "2024-09-16T10:37:17.418364Z"
    },
    "papermill": {
     "duration": 0.23317,
     "end_time": "2024-09-16T10:37:17.422754",
     "exception": false,
     "start_time": "2024-09-16T10:37:17.189584",
     "status": "completed"
    },
    "tags": []
   },
   "outputs": [
    {
     "name": "stdout",
     "output_type": "stream",
     "text": [
      "\u001b[1m14/14\u001b[0m \u001b[32m━━━━━━━━━━━━━━━━━━━━\u001b[0m\u001b[37m\u001b[0m \u001b[1m0s\u001b[0m 5ms/step\n"
     ]
    }
   ],
   "source": [
    "Test_predictions = model.predict(validation_df)\n",
    "Test_predictions = (Test_predictions > 0.5).astype(int)"
   ]
  },
  {
   "cell_type": "markdown",
   "id": "a5c37a70",
   "metadata": {
    "papermill": {
     "duration": 0.017211,
     "end_time": "2024-09-16T10:37:17.457693",
     "exception": false,
     "start_time": "2024-09-16T10:37:17.440482",
     "status": "completed"
    },
    "tags": []
   },
   "source": [
    "<div style=\"background-color: #2C3E50; color: white; text-align: center; padding: 20px; font-family: Arial, sans-serif; font-size: 24px;\">\n",
    "Submission File </div>"
   ]
  },
  {
   "cell_type": "code",
   "execution_count": 19,
   "id": "1aded25c",
   "metadata": {
    "execution": {
     "iopub.execute_input": "2024-09-16T10:37:17.496497Z",
     "iopub.status.busy": "2024-09-16T10:37:17.496004Z",
     "iopub.status.idle": "2024-09-16T10:37:17.506643Z",
     "shell.execute_reply": "2024-09-16T10:37:17.505299Z"
    },
    "papermill": {
     "duration": 0.032834,
     "end_time": "2024-09-16T10:37:17.509473",
     "exception": false,
     "start_time": "2024-09-16T10:37:17.476639",
     "status": "completed"
    },
    "tags": []
   },
   "outputs": [],
   "source": [
    "res = pd.DataFrame({'PassengerId': val_df['PassengerId'], 'Survived': Test_predictions.flatten()})\n",
    "res.to_csv('submission.csv', index=False)"
   ]
  },
  {
   "cell_type": "code",
   "execution_count": 20,
   "id": "42aae677",
   "metadata": {
    "execution": {
     "iopub.execute_input": "2024-09-16T10:37:17.547747Z",
     "iopub.status.busy": "2024-09-16T10:37:17.547261Z",
     "iopub.status.idle": "2024-09-16T10:37:17.555002Z",
     "shell.execute_reply": "2024-09-16T10:37:17.553777Z"
    },
    "papermill": {
     "duration": 0.030245,
     "end_time": "2024-09-16T10:37:17.557367",
     "exception": false,
     "start_time": "2024-09-16T10:37:17.527122",
     "status": "completed"
    },
    "tags": []
   },
   "outputs": [
    {
     "data": {
      "text/plain": [
       "(418, 2)"
      ]
     },
     "execution_count": 20,
     "metadata": {},
     "output_type": "execute_result"
    }
   ],
   "source": [
    "res.shape"
   ]
  }
 ],
 "metadata": {
  "kaggle": {
   "accelerator": "none",
   "dataSources": [
    {
     "databundleVersionId": 26502,
     "sourceId": 3136,
     "sourceType": "competition"
    }
   ],
   "dockerImageVersionId": 30761,
   "isGpuEnabled": false,
   "isInternetEnabled": true,
   "language": "python",
   "sourceType": "notebook"
  },
  "kernelspec": {
   "display_name": "Python 3",
   "language": "python",
   "name": "python3"
  },
  "language_info": {
   "codemirror_mode": {
    "name": "ipython",
    "version": 3
   },
   "file_extension": ".py",
   "mimetype": "text/x-python",
   "name": "python",
   "nbconvert_exporter": "python",
   "pygments_lexer": "ipython3",
   "version": "3.10.14"
  },
  "papermill": {
   "default_parameters": {},
   "duration": 29.241513,
   "end_time": "2024-09-16T10:37:19.403523",
   "environment_variables": {},
   "exception": null,
   "input_path": "__notebook__.ipynb",
   "output_path": "__notebook__.ipynb",
   "parameters": {},
   "start_time": "2024-09-16T10:36:50.162010",
   "version": "2.6.0"
  }
 },
 "nbformat": 4,
 "nbformat_minor": 5
}
